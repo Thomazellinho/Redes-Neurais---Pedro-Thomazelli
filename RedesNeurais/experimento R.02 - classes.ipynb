{
 "cells": [
  {
   "cell_type": "markdown",
   "metadata": {},
   "source": [
    "Introdução à Classes\n",
    "====================\n",
    "\n"
   ]
  },
  {
   "cell_type": "markdown",
   "metadata": {},
   "source": [
    "## Introdução\n",
    "\n"
   ]
  },
  {
   "cell_type": "markdown",
   "metadata": {},
   "source": [
    "Quando queremos organizar objetos em uma certa ordem bem definida, usamos `listas`.\n",
    "\n",
    "Quando queremos relacionar dois objetos entre si, usamos `dicionários`.\n",
    "\n",
    "Quando queremos agrupar objetos únicos sem repetição e sem ordem bem definida, usamos `conjuntos`.\n",
    "\n",
    "Quando queremos executar uma sequência bem definida de ações, usamos `funções`.\n",
    "\n",
    "O que nós usamos quando queremos criar uma estrutura complexa de informações e ações onde apenas listas, dicionários, conjuntos e funções não são suficientes? Neste caso, usamos `classes`!\n",
    "\n"
   ]
  },
  {
   "cell_type": "markdown",
   "metadata": {},
   "source": [
    "## Código e discussão\n",
    "\n"
   ]
  },
  {
   "cell_type": "markdown",
   "metadata": {},
   "source": [
    "### A classe mais simples do mundo\n",
    "\n"
   ]
  },
  {
   "cell_type": "markdown",
   "metadata": {},
   "source": [
    "A classe mais simples do mundo é simplesmente um amontoado de informação. Classes devem ser nomeadas sempre com a primeira letra em maiúsculo.\n",
    "\n"
   ]
  },
  {
   "cell_type": "code",
   "execution_count": 1,
   "metadata": {},
   "outputs": [],
   "source": [
    "class Dados:\n",
    "    dado1 = 10\n",
    "    dado2 = [1, 2, 3]\n",
    "    dado3 = 0.908\n",
    "    dado4 = {\"a\": 1, \"b\": 2}"
   ]
  },
  {
   "cell_type": "markdown",
   "metadata": {},
   "source": [
    "Para criar um objeto baseado na sua classe, basta chamá-la com o parênteses, da mesma forma que fazemos com funções.\n",
    "\n"
   ]
  },
  {
   "cell_type": "code",
   "execution_count": 2,
   "metadata": {},
   "outputs": [],
   "source": [
    "caio = Dados()"
   ]
  },
  {
   "cell_type": "markdown",
   "metadata": {},
   "source": [
    "Agora podemos acessar os objetos da classe. Para isso usamos o ponto final.\n",
    "\n"
   ]
  },
  {
   "cell_type": "code",
   "execution_count": 6,
   "metadata": {},
   "outputs": [
    {
     "name": "stdout",
     "output_type": "stream",
     "text": [
      "10\n",
      "[1, 2, 3]\n"
     ]
    }
   ],
   "source": [
    "print(caio.dado1)\n",
    "print(caio.dado2)"
   ]
  },
  {
   "cell_type": "markdown",
   "metadata": {},
   "source": [
    "Se você se perguntou &ldquo;uai, mas por que usar uma classe sendo que um dicionário faria efetivamente a mesma coisa?&rdquo;, então você está no caminho certo. Apenas armazenar dados em uma classe desta forma não representa uma vantagem objetiva em relação à usar um dicionário. Vamos seguir em frente!\n",
    "\n"
   ]
  },
  {
   "cell_type": "markdown",
   "metadata": {},
   "source": [
    "### Classes podem fazer algo ao serem criadas\n",
    "\n"
   ]
  },
  {
   "cell_type": "markdown",
   "metadata": {},
   "source": [
    "Quando nós criamos uma classe, nós dizemos que criamos uma instância desta classe. Uma instância de uma classe representa um objeto que tem as propriedades da classe.\n",
    "\n",
    "Ao instanciar uma classe, você pode executar uma tarefa. Para isso, defina o método `__init__` usando necessariamente o `self` como primeiro argumento.\n",
    "\n"
   ]
  },
  {
   "cell_type": "code",
   "execution_count": 7,
   "metadata": {},
   "outputs": [],
   "source": [
    "class Material:\n",
    "    def __init__(self, modulo_elastico):\n",
    "        self.modulo_elastico = modulo_elastico"
   ]
  },
  {
   "cell_type": "markdown",
   "metadata": {},
   "source": [
    "Agora podemos criar um objeto da classe `Material` com um certo valor de módulo elástico.\n",
    "\n"
   ]
  },
  {
   "cell_type": "code",
   "execution_count": 9,
   "metadata": {},
   "outputs": [
    {
     "name": "stdout",
     "output_type": "stream",
     "text": [
      "<__main__.Material object at 0x0000027B72357610>\n",
      "100\n"
     ]
    }
   ],
   "source": [
    "modulo_elastico_do_meu_material = 100\n",
    "meu_material = Material(modulo_elastico_do_meu_material)\n",
    "\n",
    "print(meu_material)\n",
    "print(meu_material.modulo_elastico)"
   ]
  },
  {
   "cell_type": "markdown",
   "metadata": {},
   "source": [
    "### Os métodos `dunder`\n",
    "\n"
   ]
  },
  {
   "cell_type": "markdown",
   "metadata": {},
   "source": [
    "Observe que acima usamos um método chamado `__init__` com prefixo de dois sublinhados e sufixo de dois sublinhados. Esses métodos com essa notação são especiais e são chamados de `dunder` (vem de *double underscore*, ou duplo sublinhado em português). Existem diversos métodos dunder!\n",
    "\n",
    "Os métodos dunder controlam certos comportamentos da nossa classe. Por exemplo, observe que quando damos `print` em um objeto instanciado de uma classe ele mostra um texto padrão do tipo `<__main__.Material object at 0x7f0d2b57f9a0>`. Quem controla o texto que é exibido é o método dunder `__repr__`. Vamos ver um exemplo.\n",
    "\n"
   ]
  },
  {
   "cell_type": "code",
   "execution_count": 10,
   "metadata": {},
   "outputs": [
    {
     "name": "stdout",
     "output_type": "stream",
     "text": [
      "Material com módulo elástico de 100 GPa.\n"
     ]
    }
   ],
   "source": [
    "class Material:\n",
    "    def __init__(self, modulo_elastico):\n",
    "        self.modulo_elastico = modulo_elastico\n",
    "\n",
    "    def __repr__(self):\n",
    "        return f\"Material com módulo elástico de {self.modulo_elastico} GPa.\"\n",
    "\n",
    "modulo_elastico_do_meu_material = 100\n",
    "meu_material = Material(modulo_elastico_do_meu_material)\n",
    "\n",
    "print(meu_material)"
   ]
  },
  {
   "cell_type": "markdown",
   "metadata": {},
   "source": [
    "### Os métodos que não são `dunder`\n",
    "\n"
   ]
  },
  {
   "cell_type": "markdown",
   "metadata": {},
   "source": [
    "Classes podem ter métodos que não são especiais. Vamos tentar implementar um método que usa a lei de Hook para calcular a tensão aplicada no material ($\\sigma$) dada uma deformação ($\\varepsilon$).\n",
    "\n",
    "$$\n",
    "\\sigma = E \\varepsilon\n",
    "$$\n",
    "\n"
   ]
  },
  {
   "cell_type": "code",
   "execution_count": 20,
   "metadata": {},
   "outputs": [
    {
     "name": "stdout",
     "output_type": "stream",
     "text": [
      "Material com valor de tensão de 200 unidades\n",
      "Material com valor de tensão de 200 unidades\n",
      "Monyque e Duda Veiga são incríveis.\n"
     ]
    }
   ],
   "source": [
    "class Material:\n",
    "    \n",
    "    nome = \"Monyque e Duda Veiga são incríveis.\"\n",
    "    \n",
    "    def __init__(self, modulo_elastico):\n",
    "        self.modulo_elastico = modulo_elastico\n",
    "\n",
    "    def __repr__(self):\n",
    "        return f\"Material com módulo elástico de {self.modulo_elastico} GPa.\"\n",
    "    \n",
    "    def tensao (self, deformacao):\n",
    "        valor_tensao = self.modulo_elastico*deformacao\n",
    "        return f\"Material com valor de tensão de {valor_tensao} unidades\"\n",
    "    \n",
    "\n",
    "modulo_elastico_do_meu_material = 100\n",
    "meu_material = Material(modulo_elastico_do_meu_material)\n",
    "seu_material = Material(200)\n",
    "\n",
    "deformacao = 2\n",
    "\n",
    "tensao = meu_material.tensao(deformacao)\n",
    "\n",
    "print(tensao)\n",
    "print(tensao)\n",
    "print(meu_material.nome)"
   ]
  },
  {
   "cell_type": "markdown",
   "metadata": {},
   "source": [
    "### Alterando o estado da nossa classe\n",
    "\n"
   ]
  },
  {
   "cell_type": "markdown",
   "metadata": {},
   "source": [
    "Classes são estruturas de dados onde nos preocupamos com o seu estado. No exemplo acima, nosso material tem uma propriedade chamada de `modulo_elastico`. Digamos que nós podemos aumentar o módulo elástico do nosso material realizando um tratamento térmico. Cada vez que realizamos o tratamento térmico o módulo elástico aumenta em 10%, porém o material só aguenta no máximo 5 tratamentos térmicos. Alterar uma propriedade da nossa classe é alterar seu estado. Podemos adicionar esse processo de tratamento térmico na nossa classe.\n",
    "\n"
   ]
  },
  {
   "cell_type": "code",
   "execution_count": 21,
   "metadata": {},
   "outputs": [
    {
     "name": "stdout",
     "output_type": "stream",
     "text": [
      "Material com módulo elástico de 100 GPa.\n",
      "Material com módulo elástico de 110.00000000000001 GPa.\n",
      "Material com módulo elástico de 121.00000000000003 GPa.\n",
      "Material com módulo elástico de 133.10000000000005 GPa.\n",
      "Material com módulo elástico de 146.41000000000008 GPa.\n",
      "Material com módulo elástico de 161.0510000000001 GPa.\n",
      "Material com módulo elástico de 161.0510000000001 GPa.\n",
      "Material com módulo elástico de 161.0510000000001 GPa.\n"
     ]
    }
   ],
   "source": [
    "class Material:\n",
    "    def __init__(self, modulo_elastico):\n",
    "        self.modulo_elastico = modulo_elastico\n",
    "        self.num_tratamentos = 0\n",
    "\n",
    "    def __repr__(self):\n",
    "        return f\"Material com módulo elástico de {self.modulo_elastico} GPa.\"\n",
    "\n",
    "    def tratamento_termico(self):\n",
    "        if self.num_tratamentos < 5:\n",
    "            self.modulo_elastico = self.modulo_elastico * 1.1\n",
    "            self.num_tratamentos = self.num_tratamentos + 1\n",
    "\n",
    "modulo_elastico_do_meu_material = 100\n",
    "meu_material = Material(modulo_elastico_do_meu_material)\n",
    "\n",
    "print(meu_material)\n",
    "\n",
    "meu_material.tratamento_termico()\n",
    "print(meu_material)\n",
    "\n",
    "meu_material.tratamento_termico()\n",
    "print(meu_material)\n",
    "\n",
    "meu_material.tratamento_termico()\n",
    "print(meu_material)\n",
    "\n",
    "meu_material.tratamento_termico()\n",
    "print(meu_material)\n",
    "\n",
    "meu_material.tratamento_termico()\n",
    "print(meu_material)\n",
    "\n",
    "meu_material.tratamento_termico()\n",
    "print(meu_material)\n",
    "\n",
    "meu_material.tratamento_termico()\n",
    "print(meu_material)"
   ]
  },
  {
   "cell_type": "markdown",
   "metadata": {},
   "source": [
    "### Alterando o estado da nossa classe fora dela\n",
    "\n"
   ]
  },
  {
   "cell_type": "markdown",
   "metadata": {},
   "source": [
    "Em certos casos nós precisamos alterar alguma propriedade da nossa classe fora dela (isto é, fora das linhas de código que foram usadas para definir a classe). Podemos, por exemplo, alterar o módulo elástico do nosso material &ldquo;na mão&rdquo;.\n",
    "\n"
   ]
  },
  {
   "cell_type": "code",
   "execution_count": 22,
   "metadata": {},
   "outputs": [
    {
     "name": "stdout",
     "output_type": "stream",
     "text": [
      "Material com módulo elástico de 100 GPa.\n",
      "Material com módulo elástico de 200 GPa.\n"
     ]
    }
   ],
   "source": [
    "class Material:\n",
    "    def __init__(self, modulo_elastico):\n",
    "        self.modulo_elastico = modulo_elastico\n",
    "        self.num_tratamentos = 0\n",
    "\n",
    "    def __repr__(self):\n",
    "        return f\"Material com módulo elástico de {self.modulo_elastico} GPa.\"\n",
    "\n",
    "modulo_elastico_do_meu_material = 100\n",
    "meu_material = Material(modulo_elastico_do_meu_material)\n",
    "print(meu_material)\n",
    "\n",
    "# alterando a propriedade \"na mão\"\n",
    "meu_material.modulo_elastico = 200\n",
    "print(meu_material)"
   ]
  },
  {
   "cell_type": "markdown",
   "metadata": {},
   "source": [
    "Pense muito bem antes de sair alterando propriedades de classes &ldquo;na mão&rdquo;. Não é uma ação proibida, mas também não é algo que fazemos a todo momento sem justificativa.\n",
    "\n"
   ]
  },
  {
   "cell_type": "markdown",
   "metadata": {},
   "source": [
    "### Testando suas habilidades\n",
    "\n"
   ]
  },
  {
   "cell_type": "markdown",
   "metadata": {},
   "source": [
    "Para testar suas habilidades, modifique a classe `Material` adicionando um novo argumento no método `__init__`, usando ele para criar uma nova propriedade e criando um novo método que altera o estado desta classe.\n",
    "\n"
   ]
  },
  {
   "cell_type": "code",
   "execution_count": 35,
   "metadata": {},
   "outputs": [],
   "source": [
    "class Material2:\n",
    "    def __init__(self, modulo_elastico, resistencia_fisica):\n",
    "        self.modulo_elastico = modulo_elastico\n",
    "        self.resistencia = resistencia_fisica\n",
    "        self.num_tratamentos = 0\n",
    "\n",
    "    def __repr__(self):\n",
    "        return f\"Material com módulo elástico de {self.modulo_elastico} GPa e a resistência {self.resistencia}\"\n",
    "\n",
    "    def tratamento_termico_1(self):\n",
    "        if self.num_tratamentos < 8:\n",
    "            self.modulo_elastico = self.modulo_elastico * 1.1\n",
    "            self.resistencia = self.resistencia/1.2\n",
    "            self.num_tratamentos = self.num_tratamentos + 1\n",
    "            \n",
    "    def tratamento_termico_2(self):\n",
    "        if self.num_tratamentos < 8:\n",
    "            self.modulo_elastico = self.modulo_elastico/1.5\n",
    "            self.resistencia = self.resistencia*1.8\n",
    "            self.num_tratamentos = self.num_tratamentos + 1"
   ]
  },
  {
   "cell_type": "markdown",
   "metadata": {},
   "source": [
    "<p> Primeiro é criada a classe \"Material2\", definindo instâncias de objetos. Então, define-se uma função \"__init__\", que define os atritbutos da classe quando é instanciado um objeto dessa; já a função \"__repr__\" representa os objetos dentro da classe como uma \"string\"; já dentro das funções \"tratamento_térmico\" temos a execução dos tratamentos térmicos e teste de resistência do material, basicamente, há um aumento ou diminuição de ambos - dependendo do que foi estabelecido - retornando as propriedades do materiais. </p>"
   ]
  },
  {
   "cell_type": "code",
   "execution_count": 36,
   "metadata": {},
   "outputs": [
    {
     "name": "stdout",
     "output_type": "stream",
     "text": [
      "Material com módulo elástico de 150 GPa e a resistência 300\n",
      "Material com módulo elástico de 165.0 GPa e a resistência 250.0\n",
      "Material com módulo elástico de 110.0 GPa e a resistência 450.0\n"
     ]
    }
   ],
   "source": [
    "amostra = Material2(150, 300)\n",
    "print(amostra)\n",
    "\n",
    "amostra.tratamento_termico_1()\n",
    "print(amostra)\n",
    "\n",
    "amostra.tratamento_termico_2()\n",
    "print(amostra)"
   ]
  },
  {
   "cell_type": "markdown",
   "metadata": {},
   "source": [
    "## Conclusão\n",
    "\n"
   ]
  },
  {
   "cell_type": "markdown",
   "metadata": {},
   "source": [
    "Nesse notebook, buscou-se entender melho o método de classes no Python, sendo um meio de construir e juntar dados de maneira mais eficiente. Além disso, foram vistos alguns métodos \"__dunder__\", que facilita o trabalho com algumas operações dentro de classes. Por fim, alteramos a classe \"Material\" já conhecida anteriormente, aplicando a ela um novo atributo e fazendo-a fazer diferentes operações."
   ]
  },
  {
   "cell_type": "markdown",
   "metadata": {},
   "source": [
    "## Playground\n",
    "\n"
   ]
  },
  {
   "cell_type": "code",
   "execution_count": 23,
   "metadata": {},
   "outputs": [
    {
     "name": "stdout",
     "output_type": "stream",
     "text": [
      "Collecting graphviz"
     ]
    },
    {
     "name": "stderr",
     "output_type": "stream",
     "text": [
      "\n",
      "[notice] A new release of pip available: 22.2.2 -> 23.1.2\n",
      "[notice] To update, run: c:\\venv\\ilumpy\\Scripts\\python.exe -m pip install --upgrade pip\n"
     ]
    },
    {
     "name": "stdout",
     "output_type": "stream",
     "text": [
      "\n",
      "  Downloading graphviz-0.20.1-py3-none-any.whl (47 kB)\n",
      "     ---------------------------------------- 47.0/47.0 kB 1.2 MB/s eta 0:00:00\n",
      "Installing collected packages: graphviz\n",
      "Successfully installed graphviz-0.20.1\n"
     ]
    }
   ],
   "source": [
    "try:\n",
    "    import graphviz\n",
    "except ModuleNotFoundError:\n",
    "    import sys\n",
    "    !{sys.executable} -m pip install graphviz"
   ]
  },
  {
   "cell_type": "code",
   "execution_count": null,
   "metadata": {},
   "outputs": [],
   "source": []
  }
 ],
 "metadata": {
  "kernelspec": {
   "display_name": "ilumpy",
   "language": "python",
   "name": "ilumpy"
  },
  "language_info": {
   "codemirror_mode": {
    "name": "ipython",
    "version": 3
   },
   "file_extension": ".py",
   "mimetype": "text/x-python",
   "name": "python",
   "nbconvert_exporter": "python",
   "pygments_lexer": "ipython3",
   "version": "3.9.7"
  },
  "org": null
 },
 "nbformat": 4,
 "nbformat_minor": 4
}
