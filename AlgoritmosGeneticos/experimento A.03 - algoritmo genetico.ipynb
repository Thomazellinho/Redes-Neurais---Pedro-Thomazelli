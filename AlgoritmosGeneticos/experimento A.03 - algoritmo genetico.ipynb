{
 "cells": [
  {
   "cell_type": "markdown",
   "metadata": {},
   "source": [
    "Algoritmo genético\n",
    "==================\n",
    "\n"
   ]
  },
  {
   "cell_type": "markdown",
   "metadata": {},
   "source": [
    "## Introdução\n",
    "\n"
   ]
  },
  {
   "cell_type": "markdown",
   "metadata": {},
   "source": [
    "`Algoritmos genéticos` são algoritmos inspirados na teoria da evolução de Darwin e são ferramentas poderosas para resolver problemas de otimização. De maneira simples, a estratégia consiste em gerar uma população inicial aleatória e através de seleção, cruzamento e mutação sucessivas, gerar populações seguintes. Se feito de maneira correta, as populações seguintes tendem a ser melhores candidatos para a solução do problema do que as populações anteriores.\n",
    "\n",
    "Um algoritmo genético pode parecer um tanto complexo, porém é possível dividi-lo em partes relativamente simples:\n",
    "\n",
    "1.  Criação da população inicial (aleatória)\n",
    "\n",
    "2.  Cálculo da função objetivo para todos os membros da população inicial e atualização do hall da fama\n",
    "\n",
    "3.  Seleção dos indivíduos (quais seguem pra próxima geração)\n",
    "\n",
    "4.  Cruzamento dos indivíduos selecionados (troca de material genético)\n",
    "\n",
    "5.  Mutação dos indivíduos da população recém-criada (possibilidade de trazer informação nova ao sistema)\n",
    "\n",
    "6.  Cálculo da função objetivo para todos os membros da população recém-criada e atualização do hall da fama\n",
    "\n",
    "7.  Checar os critérios de parada. Caso os critérios não tenham sido atendidos, retornar ao passo 3\n",
    "\n",
    "8.  Retornar para o usuário o hall da fama\n",
    "\n"
   ]
  },
  {
   "cell_type": "markdown",
   "metadata": {},
   "source": [
    "## Glossário\n",
    "\n"
   ]
  },
  {
   "cell_type": "markdown",
   "metadata": {},
   "source": [
    "-   `Indivíduo`: um candidato para a solução do problema\n",
    "\n",
    "-   `População`: um conjunto de candidatos para a solução do problema\n",
    "\n",
    "-   `Gene`: um parâmetro que pertence a um indivíduo\n",
    "\n",
    "-   `Cromossomo` ou `genótipo`: um conjunto de genes\n",
    "\n",
    "-   `Geração`: cada população em uma busca genética faz parte de uma geração. A primeira geração é geralmente formada por indivíduos aleatórios (sorteados dentro do espaço de busca). As gerações seguintes são formadas por seleção, cruzamento e mutação da geração anterior. Um dos critérios de parada possíveis para um algoritmo genético é o número máximo de gerações\n",
    "\n",
    "-   `Função de aptidão` ou `função objetivo` ou `função fitness`: uma função que recebe um indivíduo e retorna o seu valor de aptidão. Em um problema de otimização, nós buscamos encontrar soluções que minimizam ou maximizam o valor de aptidão\n",
    "\n",
    "-   `Seleção`: processo onde utilizamos o valor de aptidão dos indivíduos para selecionar quais irão passar seus genes para a geração seguinte\n",
    "\n",
    "-   `Cruzamento`: processo onde o material genético de indivíduos selecionados é misturado\n",
    "\n",
    "-   `Mutação`: processo onde os genes dos indivíduos selecionados têm uma chance de alterar seu valor. A mutação é o único processo capaz de introduzir informação nova ao pool genético após o sorteio aleatório da primeira geração\n",
    "\n",
    "-   `Hall da fama`: conjunto dos $n$ indivíduos que obtiveram os melhores valores de aptidão durante o processo de busca\n",
    "\n"
   ]
  },
  {
   "cell_type": "markdown",
   "metadata": {},
   "source": [
    "## Reflexões\n",
    "\n"
   ]
  },
  {
   "cell_type": "markdown",
   "metadata": {},
   "source": [
    "Você diria que o algoritmo genético é determinístico ou probabilístico?\n",
    "\n",
    "Será que um algoritmo genético é capaz de encontrar mínimos (ou máximos) da função objetivo?\n",
    "\n",
    "O que será que acontece quando não realizamos a etapa de mutação do algoritmo genético?\n",
    "\n",
    "O que será que acontece quando usamos uma chance de mutação muito alta?\n",
    "\n"
   ]
  },
  {
   "cell_type": "markdown",
   "metadata": {},
   "source": [
    "## Objetivo\n",
    "\n"
   ]
  },
  {
   "cell_type": "markdown",
   "metadata": {},
   "source": [
    "Encontrar uma solução para o problema das caixas binárias usando o algoritmo genético. Considere 4 caixas.\n",
    "\n"
   ]
  },
  {
   "cell_type": "markdown",
   "metadata": {},
   "source": [
    "## Descrição do problema\n",
    "\n"
   ]
  },
  {
   "cell_type": "markdown",
   "metadata": {},
   "source": [
    "O problema das caixas binárias é simples: nós temos um certo número de caixas e cada uma pode conter um valor do conjunto $\\{0, 1\\}$. O objetivo é encontrar uma combinação de caixas onde a soma dos valores contidos dentro delas é máximo.\n",
    "\n"
   ]
  },
  {
   "cell_type": "markdown",
   "metadata": {},
   "source": [
    "## Importações\n",
    "\n"
   ]
  },
  {
   "cell_type": "code",
   "execution_count": 1,
   "metadata": {},
   "outputs": [],
   "source": [
    "# importando as funções a serem usadas na resolução do problema\n",
    "from funcoes import populacao_cb as cria_populacao_inicial\n",
    "from funcoes import funcao_objetivo_pop_cb as funcao_objetivo_pop\n",
    "from funcoes import selecao_roleta_max as funcao_selecao\n",
    "from funcoes import cruzamento_ponto_simples as funcao_cruzamento\n",
    "from funcoes import mutacao_cb as funcao_mutacao\n",
    "import random"
   ]
  },
  {
   "cell_type": "markdown",
   "metadata": {
    "tags": []
   },
   "source": [
    "## Códigos e discussão\n",
    "\n"
   ]
  },
  {
   "cell_type": "code",
   "execution_count": 2,
   "metadata": {},
   "outputs": [],
   "source": [
    "#constantes\n",
    "\n",
    "Tamanho_pop = 6 #tamanho da população\n",
    "Num_genes = 4 #número de genes\n",
    "Num_geracoes = 5 #número de gerações\n",
    "chance_cruzamento = 0.5 #porcentagem de chance de um cruzamento acontecer\n",
    "chance_mutacao = 0.05 #porcentagem de chance de haver mutação na população"
   ]
  },
  {
   "cell_type": "markdown",
   "metadata": {},
   "source": [
    "Na célula acima, estão sendo definidas as constantes a serem utilizadas na resolução do problema. Nela, é definido o tamnho da população (quanridade de indivíduos), o número de genes (quantidade de genes presentes em cada indivíduo - quantidade de \"zeros e uns\"), número de gerações (\"renovação da população\"), a chance de cruzamento (quantos por cento tem de chance de um indivíduo cruzar com outro) e a chance de mutação (a probabilidade de um gene ser trocado por outro - trocar um \"zero\" por \"um\")."
   ]
  },
  {
   "cell_type": "code",
   "execution_count": 3,
   "metadata": {},
   "outputs": [
    {
     "name": "stdout",
     "output_type": "stream",
     "text": [
      "População inicial: \n",
      "[[0, 1, 0, 0], [1, 0, 0, 0], [1, 1, 0, 0], [1, 1, 0, 0], [1, 0, 1, 0], [0, 0, 0, 0]]\n",
      "\n",
      "[1, 1, 1, 0]\n",
      "[1, 1, 1, 0]\n",
      "\n",
      "\n",
      "[1, 1, 0, 0]\n",
      "[1, 1, 0, 1]\n",
      "\n",
      "\n",
      "[1, 1, 0, 0]\n",
      "[1, 0, 0, 0]\n",
      "\n",
      "\n",
      "[1, 1, 1, 0]\n",
      "[1, 1, 1, 1]\n",
      "\n",
      "\n",
      "[1, 1, 1, 1]\n",
      "[1, 1, 1, 1]\n",
      "\n",
      "\n",
      "[1, 1, 0, 0]\n",
      "[1, 1, 0, 0]\n",
      "\n",
      "\n",
      "População final: \n",
      "[[1, 1, 0, 0], [1, 0, 0, 0], [1, 0, 1, 0], [1, 0, 0, 0], [1, 1, 1, 0], [1, 1, 1, 1]]\n"
     ]
    }
   ],
   "source": [
    "populacao = cria_populacao_inicial(Tamanho_pop, Num_genes) #cria uma população inicial aleatória com 6 indivíduos\n",
    "\n",
    "print(\"População inicial: \")\n",
    "print(populacao)\n",
    "\n",
    "for n in range(Num_geracoes): \n",
    "    fitness = funcao_objetivo_pop(populacao)\n",
    "    populacao = funcao_selecao (populacao, fitness) #seleciona indivíduos para passarem por, possivelmente, cruzamento, mutação ou direto a próxima geração.\n",
    "    pais = populacao[0::2] # indivíduos pares\n",
    "    maes = populacao[1::2] # indivíduos ímpares\n",
    "    contador = 0\n",
    "    for pai, mae in zip(pais, maes): # chance de pai e mãe cruzarem\n",
    "        if random.random() < chance_cruzamento: \n",
    "            filho1, filho2 = funcao_cruzamento(pai, mae)\n",
    "            populacao[contador] = filho1\n",
    "            populacao[contador] = filho2\n",
    "            #ocorre cruzamento\n",
    "            \n",
    "        contador = contador + 2\n",
    "\n",
    "        for n in range(len(populacao)): #chance de mutação para cada indivíduo\n",
    "            if random.random() <= chance_mutacao:\n",
    "                individuo = populacao[n]\n",
    "                print()\n",
    "                print(individuo)\n",
    "                populacao[n] = funcao_mutacao(individuo)\n",
    "                print(populacao[n])\n",
    "                print()\n",
    "print()\n",
    "print(\"População final: \")\n",
    "print(populacao)"
   ]
  },
  {
   "cell_type": "markdown",
   "metadata": {},
   "source": [
    "O primeiro passo tomado nessa célula é a criação de uma população, no caso com 6 indivíduos. Sendo isso, dentro da população formada, são feitas as probabilidades dos indivíduos cruzarem, mutarem e passarem para a próxima geração. Por fim, faz-se a função que executa propriamente a mutação. Por fim, é retornada a melhor população final encontrada."
   ]
  },
  {
   "cell_type": "code",
   "execution_count": 4,
   "metadata": {},
   "outputs": [],
   "source": [
    "#constantes\n",
    "#testando o que acontece se aumentarmos o tamanho da população e o número de gerações\n",
    "\n",
    "Tamanho_pop2 = 150\n",
    "Num_genes2 = 4\n",
    "Num_geracoes2 = 10\n",
    "chance_cruzamento2 = 0.5"
   ]
  },
  {
   "cell_type": "code",
   "execution_count": 5,
   "metadata": {},
   "outputs": [
    {
     "name": "stdout",
     "output_type": "stream",
     "text": [
      "População inicial: \n",
      "[[1, 0, 0, 0], [0, 1, 1, 1], [0, 1, 0, 1], [0, 1, 0, 0], [1, 0, 1, 0], [0, 0, 0, 1], [0, 1, 1, 0], [1, 1, 1, 0], [1, 0, 0, 1], [1, 0, 0, 0], [1, 1, 1, 0], [1, 0, 1, 1], [1, 0, 0, 0], [0, 0, 1, 1], [0, 0, 0, 1], [1, 1, 1, 0], [0, 0, 0, 1], [1, 0, 0, 1], [1, 0, 1, 1], [1, 1, 1, 1], [1, 1, 0, 1], [0, 1, 0, 1], [1, 1, 1, 0], [1, 0, 0, 1], [0, 1, 1, 0], [0, 1, 0, 1], [0, 0, 1, 1], [0, 0, 0, 0], [1, 0, 1, 1], [1, 0, 0, 0], [0, 0, 0, 0], [0, 0, 0, 0], [0, 0, 0, 0], [1, 0, 1, 1], [0, 0, 1, 1], [0, 0, 0, 1], [0, 1, 0, 0], [1, 1, 1, 1], [1, 0, 1, 1], [1, 1, 0, 0], [1, 1, 1, 1], [0, 1, 1, 1], [0, 1, 0, 1], [0, 1, 0, 0], [0, 0, 0, 0], [0, 1, 0, 0], [1, 1, 1, 0], [0, 0, 0, 1], [1, 0, 0, 1], [1, 1, 0, 0], [0, 1, 1, 1], [0, 0, 1, 1], [1, 0, 1, 1], [1, 0, 1, 0], [1, 0, 1, 0], [0, 1, 0, 0], [1, 1, 0, 0], [0, 1, 1, 1], [1, 0, 1, 0], [1, 1, 0, 1], [0, 1, 1, 0], [0, 0, 1, 0], [0, 1, 1, 0], [0, 0, 1, 0], [0, 0, 1, 1], [1, 1, 0, 0], [1, 0, 1, 0], [0, 1, 1, 1], [0, 0, 0, 1], [1, 0, 0, 1], [0, 1, 0, 1], [1, 1, 0, 1], [1, 0, 0, 1], [0, 1, 0, 0], [1, 0, 0, 0], [1, 0, 1, 1], [1, 1, 1, 1], [0, 1, 1, 1], [1, 0, 1, 1], [1, 0, 1, 1], [0, 0, 0, 1], [1, 0, 0, 0], [1, 1, 1, 0], [1, 1, 1, 0], [0, 1, 1, 0], [0, 1, 1, 0], [1, 1, 0, 1], [0, 0, 1, 1], [1, 1, 0, 0], [0, 1, 0, 0], [1, 0, 0, 0], [0, 0, 0, 0], [1, 0, 1, 0], [0, 0, 1, 1], [1, 1, 0, 1], [0, 0, 0, 0], [1, 0, 1, 1], [1, 0, 0, 1], [1, 0, 0, 1], [0, 0, 1, 0], [1, 1, 0, 0], [0, 0, 1, 0], [0, 0, 1, 1], [0, 1, 0, 0], [1, 0, 1, 1], [0, 1, 1, 0], [1, 0, 0, 1], [0, 1, 0, 1], [0, 0, 0, 0], [1, 0, 1, 1], [0, 1, 1, 1], [0, 1, 1, 1], [0, 0, 0, 0], [0, 0, 0, 1], [1, 0, 0, 0], [0, 0, 1, 1], [1, 0, 0, 1], [0, 1, 0, 0], [0, 1, 1, 1], [1, 1, 1, 1], [1, 1, 1, 0], [0, 1, 0, 1], [0, 1, 0, 1], [1, 1, 0, 0], [0, 0, 1, 0], [1, 0, 0, 1], [0, 0, 1, 0], [1, 0, 0, 1], [1, 1, 1, 1], [1, 0, 0, 0], [0, 1, 1, 0], [0, 1, 1, 0], [1, 1, 0, 1], [1, 0, 1, 0], [1, 0, 1, 0], [0, 1, 0, 0], [0, 1, 1, 0], [0, 0, 1, 1], [1, 1, 0, 0], [0, 0, 1, 0], [0, 1, 0, 1], [0, 0, 1, 1], [1, 0, 1, 1], [0, 0, 1, 1], [1, 1, 1, 1], [0, 1, 1, 1], [0, 1, 1, 1], [1, 0, 1, 0], [1, 1, 0, 0], [1, 0, 1, 1]]\n",
      "\n",
      "População final: \n",
      "[[0, 1, 1, 1], [1, 1, 1, 1], [1, 1, 1, 1], [1, 1, 1, 1], [1, 1, 1, 1], [1, 1, 1, 1], [1, 1, 1, 1], [1, 1, 1, 1], [1, 1, 1, 1], [1, 1, 1, 1], [0, 1, 1, 1], [0, 1, 1, 1], [1, 1, 1, 1], [1, 1, 1, 1], [1, 0, 1, 1], [1, 1, 1, 1], [0, 1, 1, 1], [1, 1, 1, 1], [1, 1, 1, 1], [1, 1, 1, 1], [1, 1, 1, 1], [1, 1, 1, 1], [1, 1, 1, 1], [1, 1, 1, 1], [1, 1, 1, 1], [1, 1, 1, 1], [0, 1, 1, 1], [0, 1, 1, 1], [1, 1, 1, 1], [1, 1, 1, 1], [1, 1, 1, 1], [1, 1, 1, 1], [1, 1, 1, 1], [1, 1, 1, 1], [0, 1, 1, 1], [0, 1, 1, 1], [1, 1, 1, 1], [1, 1, 1, 1], [1, 1, 1, 1], [1, 1, 1, 1], [1, 1, 1, 1], [1, 1, 1, 1], [1, 1, 1, 1], [1, 1, 1, 1], [1, 1, 1, 1], [1, 1, 1, 1], [1, 1, 1, 1], [1, 1, 1, 1], [1, 1, 1, 1], [1, 1, 1, 1], [1, 1, 1, 1], [0, 1, 1, 1], [0, 0, 1, 1], [0, 0, 1, 1], [1, 1, 1, 1], [1, 1, 1, 1], [1, 1, 1, 1], [1, 1, 1, 1], [1, 1, 1, 1], [1, 1, 1, 1], [1, 1, 1, 1], [1, 1, 1, 1], [1, 1, 1, 1], [1, 0, 1, 1], [0, 1, 1, 1], [1, 1, 1, 1], [1, 0, 1, 1], [1, 1, 1, 1], [1, 1, 1, 1], [1, 1, 1, 1], [1, 1, 1, 1], [1, 1, 1, 1], [1, 1, 1, 1], [1, 1, 1, 1], [1, 1, 1, 1], [1, 1, 1, 1], [1, 1, 1, 0], [1, 1, 1, 1], [1, 1, 1, 1], [1, 1, 1, 1], [1, 1, 1, 1], [0, 1, 1, 1], [1, 1, 1, 1], [1, 1, 1, 1], [1, 1, 1, 1], [1, 1, 1, 1], [1, 1, 1, 1], [1, 1, 1, 1], [1, 1, 1, 1], [1, 1, 1, 1], [1, 1, 1, 1], [1, 1, 1, 1], [1, 1, 1, 1], [1, 1, 1, 1], [1, 1, 1, 1], [1, 1, 1, 1], [1, 1, 1, 1], [1, 1, 1, 1], [0, 1, 1, 1], [1, 1, 1, 1], [1, 1, 1, 1], [1, 1, 1, 1], [1, 1, 1, 1], [1, 1, 1, 1], [1, 1, 1, 1], [1, 1, 1, 1], [1, 1, 1, 1], [0, 1, 1, 1], [1, 1, 1, 1], [1, 1, 1, 1], [0, 1, 1, 1], [0, 1, 1, 1], [0, 1, 1, 1], [0, 1, 1, 1], [1, 1, 1, 1], [1, 1, 1, 1], [1, 1, 1, 1], [1, 1, 1, 1], [1, 1, 1, 1], [1, 1, 1, 1], [1, 1, 1, 1], [1, 1, 1, 1], [0, 1, 1, 1], [1, 1, 1, 1], [1, 1, 1, 1], [0, 1, 1, 1], [0, 1, 1, 1], [1, 1, 1, 1], [1, 1, 1, 1], [1, 1, 1, 1], [1, 1, 1, 1], [1, 1, 1, 1], [1, 1, 1, 1], [1, 1, 1, 1], [1, 1, 1, 1], [1, 1, 1, 1], [1, 1, 1, 1], [1, 1, 1, 1], [1, 1, 1, 1], [1, 1, 1, 1], [1, 1, 1, 1], [1, 1, 1, 1], [1, 1, 1, 1], [1, 1, 1, 1], [1, 1, 1, 1], [1, 1, 1, 1], [1, 1, 1, 1], [1, 1, 1, 1], [1, 1, 1, 1], [1, 1, 1, 1]]\n"
     ]
    }
   ],
   "source": [
    "populacao = cria_populacao_inicial(Tamanho_pop2, Num_genes2)\n",
    "\n",
    "print(\"População inicial: \")\n",
    "print(populacao)\n",
    "\n",
    "for n in range(Num_geracoes2):\n",
    "    fitness = funcao_objetivo_pop(populacao)\n",
    "    populacao = funcao_selecao (populacao, fitness)\n",
    "    pais = populacao[0::2]\n",
    "    maes = populacao[1::2]\n",
    "    contador = 0\n",
    "    for pai, mae in zip(pais, maes):\n",
    "        if random.random() < chance_cruzamento2:\n",
    "            filho1, filho2 = funcao_cruzamento(pai, mae)\n",
    "            populacao[contador] = filho1\n",
    "            populacao[contador] = filho2\n",
    "            #ocorre cruzamento\n",
    "            \n",
    "        contador = contador + 2\n",
    "\n",
    "    \n",
    "   \n",
    "print()\n",
    "print(\"População final: \")\n",
    "print(populacao)"
   ]
  },
  {
   "cell_type": "code",
   "execution_count": 6,
   "metadata": {},
   "outputs": [],
   "source": [
    "#taxa de mutação muito alta\n",
    "\n",
    "#constantes\n",
    "\n",
    "Tamanho_pop3 = 6 #tamanho da população\n",
    "Num_genes3 = 4 #número de genes\n",
    "Num_geracoes3 = 5 #número de gerações\n",
    "chance_cruzamento3 = 0.5 #porcentagem de chance de um cruzamento acontecer\n",
    "chance_mutacao3 = 0.5 #porcentagem de chance de haver mutação na população"
   ]
  },
  {
   "cell_type": "code",
   "execution_count": 7,
   "metadata": {},
   "outputs": [
    {
     "name": "stdout",
     "output_type": "stream",
     "text": [
      "População inicial: \n",
      "[[1, 1, 0, 0], [1, 0, 0, 1], [0, 0, 1, 1], [1, 0, 0, 0], [1, 1, 1, 0], [1, 1, 0, 1]]\n",
      "\n",
      "[1, 0, 0, 1]\n",
      "[1, 0, 0, 1]\n",
      "\n",
      "\n",
      "[1, 0, 0, 0]\n",
      "[0, 0, 0, 0]\n",
      "\n",
      "\n",
      "[1, 1, 0, 0]\n",
      "[1, 0, 0, 0]\n",
      "\n",
      "\n",
      "[1, 1, 1, 0]\n",
      "[1, 1, 1, 0]\n",
      "\n",
      "\n",
      "[1, 1, 1, 0]\n",
      "[1, 1, 1, 0]\n",
      "\n",
      "\n",
      "[0, 0, 0, 0]\n",
      "[0, 0, 0, 0]\n",
      "\n",
      "\n",
      "[1, 1, 1, 0]\n",
      "[0, 1, 1, 0]\n",
      "\n",
      "\n",
      "[0, 1, 1, 0]\n",
      "[0, 1, 1, 0]\n",
      "\n",
      "\n",
      "[0, 1, 1, 0]\n",
      "[0, 1, 1, 0]\n",
      "\n",
      "\n",
      "[0, 1, 1, 0]\n",
      "[1, 1, 1, 0]\n",
      "\n",
      "\n",
      "[1, 0, 0, 1]\n",
      "[1, 0, 0, 0]\n",
      "\n",
      "\n",
      "[1, 1, 1, 0]\n",
      "[1, 1, 1, 0]\n",
      "\n",
      "\n",
      "[1, 0, 0, 0]\n",
      "[0, 0, 0, 0]\n",
      "\n",
      "\n",
      "[1, 1, 1, 0]\n",
      "[1, 1, 1, 0]\n",
      "\n",
      "\n",
      "[0, 0, 0, 0]\n",
      "[0, 0, 0, 0]\n",
      "\n",
      "\n",
      "[1, 0, 1, 0]\n",
      "[1, 0, 1, 0]\n",
      "\n",
      "\n",
      "[0, 0, 0, 0]\n",
      "[0, 0, 0, 0]\n",
      "\n",
      "\n",
      "[1, 1, 1, 0]\n",
      "[1, 0, 1, 0]\n",
      "\n",
      "\n",
      "[1, 0, 1, 0]\n",
      "[1, 0, 1, 0]\n",
      "\n",
      "\n",
      "[0, 0, 0, 0]\n",
      "[0, 1, 0, 0]\n",
      "\n",
      "\n",
      "[0, 1, 0, 0]\n",
      "[1, 1, 0, 0]\n",
      "\n",
      "\n",
      "[1, 0, 1, 0]\n",
      "[1, 0, 1, 0]\n",
      "\n",
      "\n",
      "[1, 0, 1, 0]\n",
      "[1, 0, 1, 0]\n",
      "\n",
      "\n",
      "[1, 0, 1, 0]\n",
      "[1, 0, 1, 0]\n",
      "\n",
      "\n",
      "[1, 0, 1, 0]\n",
      "[1, 0, 1, 0]\n",
      "\n",
      "\n",
      "[1, 0, 1, 0]\n",
      "[1, 0, 1, 0]\n",
      "\n",
      "\n",
      "[1, 0, 1, 0]\n",
      "[1, 0, 1, 0]\n",
      "\n",
      "\n",
      "[1, 0, 1, 0]\n",
      "[1, 0, 1, 0]\n",
      "\n",
      "\n",
      "[1, 0, 1, 0]\n",
      "[1, 0, 1, 0]\n",
      "\n",
      "\n",
      "[1, 0, 1, 0]\n",
      "[1, 0, 1, 0]\n",
      "\n",
      "\n",
      "[1, 0, 1, 0]\n",
      "[1, 0, 1, 0]\n",
      "\n",
      "\n",
      "[1, 0, 1, 0]\n",
      "[1, 0, 1, 0]\n",
      "\n",
      "\n",
      "[1, 0, 1, 0]\n",
      "[1, 0, 1, 0]\n",
      "\n",
      "\n",
      "[1, 0, 1, 0]\n",
      "[0, 0, 1, 0]\n",
      "\n",
      "\n",
      "[0, 0, 1, 0]\n",
      "[1, 0, 1, 0]\n",
      "\n",
      "\n",
      "[1, 0, 1, 0]\n",
      "[1, 0, 1, 0]\n",
      "\n",
      "\n",
      "[1, 0, 1, 0]\n",
      "[1, 1, 1, 0]\n",
      "\n",
      "\n",
      "[1, 0, 1, 0]\n",
      "[1, 0, 0, 0]\n",
      "\n",
      "\n",
      "[1, 1, 1, 0]\n",
      "[1, 1, 1, 0]\n",
      "\n",
      "\n",
      "[1, 0, 0, 0]\n",
      "[1, 0, 0, 0]\n",
      "\n",
      "\n",
      "[1, 0, 0, 0]\n",
      "[1, 0, 0, 0]\n",
      "\n",
      "\n",
      "[1, 1, 1, 0]\n",
      "[1, 1, 1, 0]\n",
      "\n",
      "\n",
      "[1, 0, 0, 0]\n",
      "[1, 0, 0, 0]\n",
      "\n",
      "\n",
      "[1, 0, 0, 0]\n",
      "[0, 0, 0, 0]\n",
      "\n",
      "\n",
      "[0, 0, 0, 0]\n",
      "[0, 0, 0, 0]\n",
      "\n",
      "\n",
      "[1, 1, 1, 0]\n",
      "[1, 1, 1, 0]\n",
      "\n",
      "\n",
      "População final: \n",
      "[[1, 0, 1, 0], [1, 1, 1, 0], [1, 0, 0, 0], [0, 0, 0, 0], [0, 0, 0, 0], [1, 1, 1, 0]]\n"
     ]
    }
   ],
   "source": [
    "populacao = cria_populacao_inicial(Tamanho_pop3, Num_genes3)\n",
    "\n",
    "print(\"População inicial: \")\n",
    "print(populacao)\n",
    "\n",
    "for n in range(Num_geracoes3):\n",
    "    fitness = funcao_objetivo_pop(populacao)\n",
    "    populacao = funcao_selecao (populacao, fitness)\n",
    "    pais = populacao[0::2]\n",
    "    maes = populacao[1::2]\n",
    "    contador = 0\n",
    "    for pai, mae in zip(pais, maes):\n",
    "        if random.random() < chance_cruzamento3:\n",
    "            filho1, filho2 = funcao_cruzamento(pai, mae)\n",
    "            populacao[contador] = filho1\n",
    "            populacao[contador] = filho2\n",
    "            #ocorre cruzamento\n",
    "            \n",
    "        contador = contador + 2\n",
    "        \n",
    "        for n in range(len(populacao)):\n",
    "            if random.random() <= chance_mutacao3:\n",
    "                individuo = populacao[n]\n",
    "                print()\n",
    "                print(individuo)\n",
    "                populacao[n] = funcao_mutacao(individuo)\n",
    "                print(populacao[n])\n",
    "                print()\n",
    "\n",
    "    \n",
    "   \n",
    "print()\n",
    "print(\"População final: \")\n",
    "print(populacao)"
   ]
  },
  {
   "cell_type": "markdown",
   "metadata": {},
   "source": [
    "## Conclusão\n",
    "\n"
   ]
  },
  {
   "cell_type": "markdown",
   "metadata": {},
   "source": [
    "O algoritmo genético, que trata da combinação de indivíduos, havendo mutação e cruzamento, apresenta características probabilísticas, uma vez que faz diversas combinações aleatórias entre os indivíduos, de modo a encontrar o conjunto de indivíduos que melhor se encaixe no problema apresentado. Com esse algoritmo, é possível determinar máximos e mínimos de funções, iterando várias partes do processo, chegando cada vez mais próximo desses valores de máximo e mínimo. Caso não haja mutação, a variabilidade genética será muito baixa, o que, caso a população não esteja em um ambiente minimamente favorável para si, levará essa a extinção, uma vez que não será capaz de se adaptar suficientemente rápido ao ambiente em que vive. Tal qual quando não há mutação, uma alta taxa de mutação também é prejudicial para a população. A alta variabilidade genética leva a população a não convergir para um ponto comum, causando a dispersão da mesma."
   ]
  },
  {
   "cell_type": "markdown",
   "metadata": {},
   "source": [
    "## Playground\n",
    "\n"
   ]
  },
  {
   "cell_type": "code",
   "execution_count": null,
   "metadata": {},
   "outputs": [],
   "source": []
  }
 ],
 "metadata": {
  "kernelspec": {
   "display_name": "ilumpy",
   "language": "python",
   "name": "ilumpy"
  },
  "language_info": {
   "codemirror_mode": {
    "name": "ipython",
    "version": 3
   },
   "file_extension": ".py",
   "mimetype": "text/x-python",
   "name": "python",
   "nbconvert_exporter": "python",
   "pygments_lexer": "ipython3",
   "version": "3.9.7"
  },
  "org": null
 },
 "nbformat": 4,
 "nbformat_minor": 4
}
