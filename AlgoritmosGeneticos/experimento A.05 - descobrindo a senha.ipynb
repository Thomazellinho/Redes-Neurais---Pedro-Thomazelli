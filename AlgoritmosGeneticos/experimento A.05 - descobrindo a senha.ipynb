{
 "cells": [
  {
   "cell_type": "markdown",
   "metadata": {},
   "source": [
    "Descobrindo a senha\n",
    "===================\n",
    "\n"
   ]
  },
  {
   "cell_type": "markdown",
   "metadata": {},
   "source": [
    "## Objetivo\n",
    "\n"
   ]
  },
  {
   "cell_type": "markdown",
   "metadata": {},
   "source": [
    "Usar um algoritmo genético para descobrir uma senha.\n",
    "\n"
   ]
  },
  {
   "cell_type": "markdown",
   "metadata": {},
   "source": [
    "## Descrição do problema\n",
    "\n"
   ]
  },
  {
   "cell_type": "markdown",
   "metadata": {},
   "source": [
    "Neste problema, a função objetivo deve saber a senha correta e quantificar de alguma maneira o quão perto ou longe os palpites estão da solução (veja que isso é algo que não temos no mundo real. Nenhum site irá te dizer se você está acertando ou errando seu palpite). O critério de parada deste problema é quando a senha for descoberta.\n",
    "\n"
   ]
  },
  {
   "cell_type": "markdown",
   "metadata": {},
   "source": [
    "## Importações\n",
    "\n"
   ]
  },
  {
   "cell_type": "code",
   "execution_count": 1,
   "metadata": {},
   "outputs": [],
   "source": [
    "# importando do arquivo funcoes.py as funções a serem utilizadas na resolução do problema.\n",
    "\n",
    "from funcoes import populacao_inicial_senha\n",
    "from funcoes import funcao_objetivo_pop_senha\n",
    "from funcoes import selecao_torneio_min\n",
    "from funcoes import cruzamento_ponto_simples as funcao_cruzamento\n",
    "from funcoes import mutacao_senha\n",
    "import random"
   ]
  },
  {
   "cell_type": "markdown",
   "metadata": {},
   "source": [
    "## Códigos e discussão\n",
    "\n"
   ]
  },
  {
   "cell_type": "code",
   "execution_count": 2,
   "metadata": {},
   "outputs": [],
   "source": [
    "### constantes\n",
    "\n",
    "# relacionadas à busca\n",
    "TAMANHO_POP = 50\n",
    "CHANCE_CRUZAMENTO = 0.5\n",
    "CHANCE_MUTACAO = 0.05\n",
    "NUM_COMBATENTES_NO_TORNEIO = 3\n",
    "\n",
    "# relacionados ao problema a ser resovido\n",
    "SENHA = 'streamfaithinthefuturebylouistomlinson'\n",
    "LETRAS_POSSIVEIS = 'abcdefghijklmnopqrstuvwxyzABCDEFGHIJKLMNOPQRSTUVWXYZ0123456789'\n",
    "NUM_GENES = len(SENHA)"
   ]
  },
  {
   "cell_type": "markdown",
   "metadata": {},
   "source": [
    "Aqui, como feito nos experimentos anteriores, são definidas as constantes que serão usadas, tanto relacionadas a busca, quanto relacionadas ao problema a ser resolvido. \"TAMANHO_POP\" indica a quantidade de indivíduos, \"CHANCE_CRUZAMENTO\" e \"CHANCE_MUTACAO\" a probabilidade desses eventos ocorrerem e \"NUM_COMBATENTES_NO_TORNEIO\" quantos indivíduos iriam \"brigar\" em cada rodada. Já relacionado aos do problema, \"SENHA\" define a senha a ser encontrada pelo algoritmo, \"LETRAS_POSSIVEIS\" quais letras, números ou símbolos o algoritmos poderia chutar e \"NUM_GENES\" o número de genes de cada indivíduo que, nesse caso, corresponde ao número de algorismos na senha."
   ]
  },
  {
   "cell_type": "code",
   "execution_count": 11,
   "metadata": {},
   "outputs": [],
   "source": [
    "#funções locais\n",
    "\n",
    "def cria_populacao_inicial(tamanho, tamanho_senha):\n",
    "    return populacao_inicial_senha(tamanho, tamanho_senha, LETRAS_POSSIVEIS)\n",
    "\n",
    "def funcao_objetivo_pop(populacao):\n",
    "    return funcao_objetivo_pop_senha(populacao, SENHA)\n",
    "\n",
    "def funcao_selecao(populacao, fitness):\n",
    "    return selecao_torneio_min(populacao, fitness, NUM_COMBATENTES_NO_TORNEIO)\n",
    "\n",
    "def funcao_mutacao(individuo):\n",
    "    return mutacao_senha(individuo, LETRAS_POSSIVEIS)"
   ]
  },
  {
   "cell_type": "code",
   "execution_count": 12,
   "metadata": {},
   "outputs": [
    {
     "name": "stdout",
     "output_type": "stream",
     "text": [
      "Progresso da melhor senha já vista\n",
      "khnyx9wddymiO0rBhFroMqvX7piiJsTfrPTcmg - fitness: 681\n",
      "vzQLuPwTwjOgIZswHvo6xKZYgqWhMtserPTcmg - fitness: 630\n",
      "yUrAhRQVqqDQphswHvo6xKZYgqWhMtserPTcmg - fitness: 594\n",
      "yUrAhRQVqqDQphswHvo6xKZYgqWhMtseduTcmg - fitness: 583\n",
      "vzrAhRQVqqDQphswHvo6xKZYgqWhMtserPTcmg - fitness: 566\n",
      "vzrAhRQVqqDQphswHvo6xKZYgqWhMtseduTcmg - fitness: 555\n",
      "vzrXahllwjOgIZswHvo6xWZYgqWhMtseduTcmg - fitness: 505\n",
      "vyrXahllwjOgIZswHvo6xWZYgqWhMtseduTcmg - fitness: 504\n",
      "vzrXahllwqDQphswHvo6xWZYgqWhMtseduTcmg - fitness: 482\n",
      "vzrXahllwqDQphswHvo6xWZYgqWhMtsedudcmg - fitness: 466\n",
      "vyrXahllwjOgIZswHvokxWZYgqWhMtsedudcmg - fitness: 435\n",
      "vzrXahllwjogphswHvo6xWZYgqWhMtsedudcmg - fitness: 422\n",
      "vzrXamllwjOgphswHvo6xKZvgqWhMtsedudcmg - fitness: 418\n",
      "vzrXamllwjOhphswHvo6xKZvgqWhMtsedudcmg - fitness: 417\n",
      "vzrXamllwjOhphswHvo6xKZvgqWhMtsmdudcmg - fitness: 409\n",
      "vzrXamllwjOhphswHvo6xKZvgqphMtsmdudcmg - fitness: 384\n",
      "vzrXamllwjkhphswHvo6xKZvgqphMtsmdudcmg - fitness: 362\n",
      "vzrnamllwjkhphswHvo6xKZvgqphMtsmdudcmg - fitness: 358\n",
      "vzrXamllwjkhphswHvoaxKZvgqphMtsmdudcmg - fitness: 319\n",
      "vzrXamllwjihphswHvoaxKZvgqphMtsmdudcmg - fitness: 317\n",
      "vzrXamllwjkhphswHvoaxKZvgqphVtsmdudcmg - fitness: 310\n",
      "vzrXamllwjkhphswHvoaxKZvgqphVtsmdudomg - fitness: 298\n",
      "vyrnamllwjihphswHvoaxKZvgqphVtsmdudomg - fitness: 291\n",
      "vzrXamllwjkhphswHvoaxuZvgqphVtsmdudomg - fitness: 288\n",
      "vzrnamllwjkhphswHvoaxuZvgqphXtsmdudomg - fitness: 282\n",
      "vyrnamllwjihphswHvoaxuZvgqphVtsmdudomg - fitness: 281\n",
      "vzrnamllwjihphswHvoaxuZvgqphXtsmdudomg - fitness: 280\n",
      "vyrnamllwjihphswOvoaxuZvgqphVtsmdudomg - fitness: 274\n",
      "vyrnamllwjihphswHvoaxuZvgqphltsmdudomg - fitness: 259\n",
      "vyrnamllwjihphsnHvoaxuZvgqphltsmdudomg - fitness: 250\n",
      "vyriamllwjihphswHvoaxuZvgqphstsmdudomg - fitness: 247\n",
      "vyrnamllwjihphsnHvoaxuZvgqphstsmdudomg - fitness: 243\n",
      "vyriamllwjihphsnHvoaxuZvgqphstsmdudomg - fitness: 238\n",
      "vyriamllcjihphsnHvoaxuZvgqphltsmdudomg - fitness: 237\n",
      "vyriamllmjihphsnHvoaxuZvgqphstsmdudomg - fitness: 228\n",
      "vyriamllmjihpqsnHvoaxuZvgqphstsmdudomg - fitness: 219\n",
      "vyriamllmjihpqsnHvoaxgZvgqphstsmdudomg - fitness: 205\n",
      "vyriamllmjihpqsnHvolxgZvgqphstsmdudomg - fitness: 194\n",
      "vyriamllmjihpqsnHvovxgZvgqphstsmdudomg - fitness: 186\n",
      "vyriamllmjihpqsnHvovxgZvgqphstsmoudomg - fitness: 181\n",
      "vyriamllmjihoqsnZvovxgZvgqphstsmdudomg - fitness: 167\n",
      "vyriamllmjihoqsnZvovxgZvgqphstsmoudomg - fitness: 162\n",
      "vyriamllmjihoqsnZvovxgZvgqphstsmindomg - fitness: 155\n",
      "vyriamllmyihoqsnZvovxgZvgqphstsmindomg - fitness: 150\n",
      "vyriamllmjihoqsiqvovxgZvgqphstsmindomg - fitness: 149\n",
      "vyriamllmjihoqsiqvovxgZvgophstsmindomg - fitness: 147\n",
      "vyriamllmpihoqsiqvovxgZvgqphstsmindomg - fitness: 143\n",
      "vyriamllmpihoqsiqvovxgZvgophstsmindomg - fitness: 141\n",
      "vyriamllmpihoqscqvovxgZvgophstsmindomg - fitness: 139\n",
      "vyriamllmpihoqaiqvovxgZvgophstsmindomg - fitness: 137\n",
      "vyriamlgmpihoqaiqvovxgZvgophstsmindomg - fitness: 132\n",
      "vtriamllmpihoqacqvovxgZvgophstsmindomg - fitness: 130\n",
      "ttriamllmpihoqacqvovxgZvgophstsmindomg - fitness: 128\n",
      "ttriamllmpihoqacqvovxgZvgophstmmindomg - fitness: 126\n",
      "ttriamllmpihoqjcqvovxgZvgophstsmindomg - fitness: 123\n",
      "ttriamllmpihoqjcqvovxgZvgophstmmindomg - fitness: 121\n",
      "ttrgamllmpihoqjcqvovxgZvgophstmmindomg - fitness: 119\n",
      "ttriamlimpihoqjcqvovxgZvgophstmmindomg - fitness: 118\n",
      "ttriamlimpihoqjcqvovxgZvgophstmmikdomg - fitness: 115\n",
      "ttriamdimpihoqjcqvovxgZvgophstmmindomg - fitness: 114\n",
      "ttriamdimpihoqjcqvovxgZvgophstmmikdomg - fitness: 111\n",
      "ttriamdimpihoqjcqvovxgZvgophstomikdomg - fitness: 109\n",
      "ttriamdimpihoqjcqvpvxgZvgophstomikdomg - fitness: 108\n",
      "ttriamdimpihoqjcqvpvxgZvgophstomikwomg - fitness: 107\n",
      "ttriamdimpihoqjcavpvxgZvgophstomikwomg - fitness: 101\n",
      "ttriamdimpihoqjcavpvxgZzgophstomikwomg - fitness: 99\n",
      "ttriamdimpihoqjcavpvxgZzgophstomikwsmg - fitness: 95\n",
      "ttriamdbmpihoqjcavpvxgZzgophstomikwsmg - fitness: 88\n",
      "ttriamdbmpihoqjcavpvxgZzgophstomiknsmg - fitness: 79\n",
      "ttriamdbhpihoqjcavpvxgZzgophstomiknsmg - fitness: 76\n",
      "ttriamdbhpihoqjcavpvqgZzgophstomiknsmg - fitness: 71\n",
      "ttriamdbhpihoqjcavpvqgZzgothstomiknsmg - fitness: 67\n",
      "ttriamdbhpihoqjcavpvqgezgophstomiknsmg - fitness: 66\n",
      "ttrfamdbhpihoqjcavpvqgZzgothstomiknsmg - fitness: 64\n",
      "ttriamdbhpihoqjcavpvqgezgothstomiknsmg - fitness: 62\n",
      "ttrfamdbhpihoqjcavpvqgezgothstomiknsmg - fitness: 59\n",
      "ttrfamdbhpihoqjcavpvqgezgothstomiknsmr - fitness: 56\n",
      "ttrfamdbhpihoqjdavpvqgezgothstomiknsmr - fitness: 55\n",
      "ttrfamdbhpihoqjcavpvqgezgothstomiknsmn - fitness: 52\n",
      "ttrfamdbhpihoqjdavpvqgezgothstomiknsmn - fitness: 51\n",
      "ttrfamdbhpihoqjdavuvqgezgothstomiknsmn - fitness: 48\n",
      "ttrfamdbhpihoqjdavuvqgeziothstomiknsmn - fitness: 46\n",
      "ttrfamebhpihoqjdavuvqgeyjothstomiknsmn - fitness: 43\n",
      "ttrfamebhpihoqjdauuvqgeyjothstomiknsmn - fitness: 42\n",
      "ttrfamebhpihorjdauuvqgeyjothstomiknsmn - fitness: 41\n",
      "ttrfamebhpihorjdauuvqgeyjotistomiknsmn - fitness: 40\n",
      "ttrfamebhpihorjdbuuvqgeyjotistomiknsmn - fitness: 39\n",
      "ttrfamebhpihnrjdbuuvqgeyjotistomiknsmn - fitness: 38\n",
      "ttrfamebhpihnrjdbuuvrgeyjotistomiknsmn - fitness: 37\n",
      "ttrfameahpihnrjdbuuvrgeyjotistomiknsmn - fitness: 36\n",
      "ttrfameahphhnrjdbuuvrgeyjotistomiknsmn - fitness: 35\n",
      "ttrfameahphhnrjdbuuvrgeyjotistomjknsmn - fitness: 34\n",
      "ttrfameahrhhnrjdbuuvrgeyjotistomjknsmn - fitness: 32\n",
      "ttrfameahrhhntjdbuuvrgeyjotistomjknsmn - fitness: 30\n",
      "ttrfameahrhhntjdbuuvrgeylotistomjknsmn - fitness: 28\n",
      "ttrfameahrhhntjdbuuvrgcylotistomjknsmn - fitness: 26\n",
      "ttrfameahrhhntgdbuuvrgcylotistomjknsmn - fitness: 25\n",
      "ttrfameahrhhntgdbuuvrgcylotistommknsmn - fitness: 24\n",
      "ttrfameahrhhntgdbuuvrgcylotistommjnsmn - fitness: 23\n",
      "ttrfameahrhhntgdbuuvrgcylotistommjnson - fitness: 21\n",
      "ttrfameahrhhntgdhuuvrgcylotistommjnsnn - fitness: 20\n",
      "strfameahrhhntgdhuuvrgcylotistommjnsnn - fitness: 19\n",
      "strfameahrhhntgdhutvrgcylotistommjnsnn - fitness: 18\n",
      "strfameahshhntgdhutvrgcylotistommjnsnn - fitness: 17\n",
      "strfameahshhntgdhutvrecylotistommjnsnn - fitness: 15\n",
      "strfameahthhntgdhutvrecylotistommjnsnn - fitness: 14\n",
      "strfameahthhntgdhutvrecylotistomljnsnn - fitness: 13\n",
      "strfameahthintgdhutvrecylotistomljnsnn - fitness: 12\n",
      "strfameaithintgdhutvrecylotistomljnsnn - fitness: 11\n",
      "strfameaithintgdhuturecylotistomljnsnn - fitness: 10\n",
      "strfamfaithintgdhuturecylotistomljnsnn - fitness: 9\n",
      "strfamfaithintgehuturecylotistomljnsnn - fitness: 8\n",
      "streamfaithintgehuturecylotistomljnsnn - fitness: 7\n",
      "streamfaithintgehuturecylotistomljnson - fitness: 6\n",
      "streamfaithintgefuturecylotistomljnson - fitness: 4\n",
      "streamfaithintgeguturebylotistomlinson - fitness: 3\n",
      "streamfaithintgeguturebylouistomlinson - fitness: 2\n",
      "streamfaithintgefuturebylouistomlinson - fitness: 1\n",
      "streamfaithinthefuturebylouistomlinson - fitness: 0\n",
      "\n",
      "Melhor palpite da senha encontrado:\n",
      "streamfaithinthefuturebylouistomlinson\n"
     ]
    }
   ],
   "source": [
    "populacao = cria_populacao_inicial(TAMANHO_POP, NUM_GENES)\n",
    "\n",
    "melhor_fitness_ja_visto = float('inf')\n",
    "\n",
    "print('Progresso da melhor senha já vista')\n",
    "\n",
    "while melhor_fitness_ja_visto !=0:\n",
    "    \n",
    "     # Seleção\n",
    "    fitness = funcao_objetivo_pop(populacao)\n",
    "    populacao = funcao_selecao(populacao, fitness)\n",
    "    \n",
    "    # Cruzamento\n",
    "    pais = populacao[0::2]\n",
    "    maes = populacao[1::2]\n",
    "    \n",
    "    contador = 0\n",
    "    \n",
    "    for pai, mae in zip(pais, maes):\n",
    "        if random.random() <= CHANCE_CRUZAMENTO:\n",
    "            filho1, filho2 = funcao_cruzamento(pai, mae)\n",
    "            populacao[contador] = filho1\n",
    "            populacao[contador + 1] = filho2\n",
    "        \n",
    "        contador = contador + 2   \n",
    "        \n",
    "    # Mutação\n",
    "    for n in range(len(populacao)):\n",
    "        if random.random() <= CHANCE_MUTACAO:\n",
    "            individuo = populacao[n]\n",
    "            populacao[n] = funcao_mutacao(individuo)            \n",
    "            \n",
    "    # melhor individuo já visto até agora\n",
    "    fitness = funcao_objetivo_pop(populacao)\n",
    "    menor_fitness = min(fitness)\n",
    "    if menor_fitness < melhor_fitness_ja_visto:        \n",
    "        posicao = fitness.index(menor_fitness)\n",
    "        melhor_individuo_ja_visto = populacao[posicao]\n",
    "        melhor_fitness_ja_visto = menor_fitness\n",
    "        print(\"\".join(melhor_individuo_ja_visto), \"- fitness:\", melhor_fitness_ja_visto)\n",
    "\n",
    "print()\n",
    "print(\"Melhor palpite da senha encontrado:\")\n",
    "print(\"\".join(melhor_individuo_ja_visto))"
   ]
  },
  {
   "cell_type": "markdown",
   "metadata": {},
   "source": [
    "Na célula acima, foi feito o algoritmo que busca a senha dada anteriormente. Tal qual os algoritmos anteriores, o primeiro passo tomado foi a criação da população. Então, cria-se o *hall da fama*, que volta, a cada passagem do código, o melhor indivíduo encontrado por ele, havendo a substituição, até ser encontrado o certo. Há, então, a seleção, que \"escolhe\" os indivíduos que irão seguir, podendo haver mutação e cruzamento. Depois disso, há os códigos que definem o cruzamento e seleção propriamente ditos. Por fim, temos o código que verifica o melhor indivíduo da atual população e o compara com o melhor já visto, definindo se esse é melhor ou não."
   ]
  },
  {
   "cell_type": "markdown",
   "metadata": {},
   "source": [
    "## Conclusão\n",
    "\n"
   ]
  },
  {
   "cell_type": "markdown",
   "metadata": {},
   "source": [
    "Com o algoritmo implementado, foi possível resolver o problema apresentado nesse notebook. Esse algoritmo é muito interessante, pois apresenta _uma_ das diversas maneiras possíveis para resolver esse problema das senhas. Um outro jeito viável de resolvermos isso, seria aplicarmos uma função que resolveria fazendo uma diferença entre as palavras. É um algoritmo muito interessante para entendermos algoritmos genéticos."
   ]
  },
  {
   "cell_type": "markdown",
   "metadata": {},
   "source": [
    "## Playground\n",
    "\n"
   ]
  },
  {
   "cell_type": "code",
   "execution_count": null,
   "metadata": {},
   "outputs": [],
   "source": []
  }
 ],
 "metadata": {
  "kernelspec": {
   "display_name": "ilumpy",
   "language": "python",
   "name": "ilumpy"
  },
  "language_info": {
   "codemirror_mode": {
    "name": "ipython",
    "version": 3
   },
   "file_extension": ".py",
   "mimetype": "text/x-python",
   "name": "python",
   "nbconvert_exporter": "python",
   "pygments_lexer": "ipython3",
   "version": "3.9.7"
  },
  "org": null
 },
 "nbformat": 4,
 "nbformat_minor": 4
}
