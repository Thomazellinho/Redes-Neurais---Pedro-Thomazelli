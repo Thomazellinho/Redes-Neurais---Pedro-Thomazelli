{
 "cells": [
  {
   "cell_type": "markdown",
   "metadata": {},
   "source": [
    "Descobrindo a senha\n",
    "===================\n",
    "\n"
   ]
  },
  {
   "cell_type": "markdown",
   "metadata": {},
   "source": [
    "## Objetivo\n",
    "\n"
   ]
  },
  {
   "cell_type": "markdown",
   "metadata": {},
   "source": [
    "Usar um algoritmo genético para descobrir uma senha.\n",
    "\n"
   ]
  },
  {
   "cell_type": "markdown",
   "metadata": {},
   "source": [
    "## Descrição do problema\n",
    "\n"
   ]
  },
  {
   "cell_type": "markdown",
   "metadata": {},
   "source": [
    "Neste problema, a função objetivo deve saber a senha correta e quantificar de alguma maneira o quão perto ou longe os palpites estão da solução (veja que isso é algo que não temos no mundo real. Nenhum site irá te dizer se você está acertando ou errando seu palpite). O critério de parada deste problema é quando a senha for descoberta.\n",
    "\n"
   ]
  },
  {
   "cell_type": "markdown",
   "metadata": {},
   "source": [
    "## Importações\n",
    "\n"
   ]
  },
  {
   "cell_type": "code",
   "execution_count": 1,
   "metadata": {},
   "outputs": [],
   "source": [
    "from funcoes import populacao_inicial_senha\n",
    "from funcoes import funcao_objetivo_pop_senha\n",
    "from funcoes import selecao_torneio_min\n",
    "from funcoes import cruzamento_ponto_simples as funcao_cruzamento\n",
    "from funcoes import mutacao_senha\n",
    "import random"
   ]
  },
  {
   "cell_type": "markdown",
   "metadata": {},
   "source": [
    "## Códigos e discussão\n",
    "\n"
   ]
  },
  {
   "cell_type": "code",
   "execution_count": 5,
   "metadata": {},
   "outputs": [],
   "source": [
    "### constantes\n",
    "\n",
    "# relacionadas à busca\n",
    "TAMANHO_POP = 50\n",
    "CHANCE_CRUZAMENTO = 0.5\n",
    "CHANCE_MUTACAO = 0.05\n",
    "NUM_COMBATENTES_NO_TORNEIO = 3\n",
    "\n",
    "# relacionados ao problema a ser resovido\n",
    "SENHA = 'streamfaithinthefuturebylouistomlinson'\n",
    "LETRAS_POSSIVEIS = 'abcdefghijklmnopqrstuvwxyzABCDEFGHIJKLMNOPQRSTUVWXYZ0123456789'\n",
    "NUM_GENES = len(SENHA)"
   ]
  },
  {
   "cell_type": "code",
   "execution_count": 6,
   "metadata": {},
   "outputs": [],
   "source": [
    "#funções locais\n",
    "\n",
    "def cria_populacao_inicial(tamanho, tamanho_senha):\n",
    "    return populacao_inicial_senha(tamanho, tamanho_senha, LETRAS_POSSIVEIS)\n",
    "\n",
    "def funcao_objetivo_pop(populacao):\n",
    "    return funcao_objetivo_pop_senha(populacao, SENHA)\n",
    "\n",
    "def funcao_selecao(populacao, fitness):\n",
    "    return selecao_torneio_min(populacao, fitness, NUM_COMBATENTES_NO_TORNEIO)\n",
    "\n",
    "def funcao_mutacao(individuo):\n",
    "    return mutacao_senha(individuo, LETRAS_POSSIVEIS)"
   ]
  },
  {
   "cell_type": "code",
   "execution_count": 7,
   "metadata": {},
   "outputs": [
    {
     "name": "stdout",
     "output_type": "stream",
     "text": [
      "Progresso da melhor senha já vista\n",
      "DwQxuQz5lv7BRqSptclokmXgvgOimYMUbCskUl - fitness: 695\n",
      "rnVdlmn1isV4taYDVnlokmXgvgOimYMUbCskUl - fitness: 564\n",
      "rnudlmn1isV4taYDVnlokmXgvgOimYMUbCskUl - fitness: 539\n",
      "rnVdlmn1isZFijvhVnlokmXgrgOimYMUbCskUl - fitness: 497\n",
      "rnVdlmn1isZFijvhVnlokmXgvgOimYx9Bonxho - fitness: 476\n",
      "rnVdlmn1isZFijvhVnlokmXgvggimYx9Bonxho - fitness: 452\n",
      "rnudlmn1isZFijvhVnlokmXgrgOimYx9Bonxho - fitness: 447\n",
      "rnudlmn1isZFijvhVnlokmXgrgOimYxUBonxho - fitness: 419\n",
      "rnVdlmnCisZFijvhVnlokmXgvggimqxUBonxho - fitness: 382\n",
      "rnudlmn1isZFijvhVnlokmXgvggimqxUBonxho - fitness: 375\n",
      "rnudlmnCisZFiivhVnlokmXgvggimqxUBonxho - fitness: 358\n",
      "rnudlmnCisZFijvhVnlokmXgvggimqxUBonxho - fitness: 357\n",
      "rnudlmnCisZFijvhVnlokhXgvggimqxUBonxho - fitness: 352\n",
      "rnudlmnCisZFijvhVnlokhXgvggimqxULonxho - fitness: 342\n",
      "rnudlmnCisZFisvhVnlokmXgvggimqxULonxho - fitness: 338\n",
      "rnudamnCisZFiivhVnlokhXgvggimqxULonxho - fitness: 332\n",
      "rnudlmnCisZFiivhhnlokhXgvggimqxULonxho - fitness: 329\n",
      "rnudamnCisZFiivhVnlokhXgvggimqxtLonxho - fitness: 315\n",
      "rnudamnCisZFiivhhnlokhXgvggimqxtLonxho - fitness: 301\n",
      "rnudamnHisZFiivhhnlokhXgvggimqxtLonxho - fitness: 296\n",
      "rnudamnHisZFiivhhnlokhXgvggixqxtLonxho - fitness: 295\n",
      "snudamnHisZFiivhhnlokhXgvggixqxtLonxho - fitness: 294\n",
      "rnudamnHisZFiighhnlokhXgvggixqxtLonxho - fitness: 282\n",
      "rnudamnHisZdiivhhnltkhXgvggimqxtLonxho - fitness: 261\n",
      "rnudamnHisZdiivhhnltkhXgvggixqxtLonxho - fitness: 260\n",
      "rnudamnbisZFiighhnlokhXgvggixqxtLonxho - fitness: 258\n",
      "rnudamnHisZdiighhnlokhXgvggixqxtLonxuo - fitness: 251\n",
      "rnudamnbisZdiivhhnltkhXgvgginqxtLonxho - fitness: 236\n",
      "rnudamnbisZdiighhnloihXgvggixqxtLonxho - fitness: 230\n",
      "rnudamnbisZdiighhnlokhXgvggixqxtLonxuo - fitness: 227\n",
      "rnudamnbisZdiighhnltkhXgvggixqxtLonxuo - fitness: 222\n",
      "rnudamnbisZdiighhnltkhcgvggixqxtLonxho - fitness: 214\n",
      "rnudamnbisZdiighhtltkhXgpggixqxtLonxuo - fitness: 210\n",
      "rnudamnbisZdiighhtltkhXzvggixqxtLonxuo - fitness: 199\n",
      "rnudamnbisZdiighhtltkhXzvggixqxtLonxno - fitness: 194\n",
      "rnudamnbisZdiighhtltkhXzvggixqxtzonxno - fitness: 176\n",
      "rnudamnbisZdiighhtltthXzvggixqxtzonxno - fitness: 171\n",
      "rnudamgbisZdiighhtltthXzvggixqxtzonxno - fitness: 164\n",
      "rnudamgbisZdqighhtltthXzvggixqxtzonxno - fitness: 162\n",
      "rnudamgbisZdqighhtltthXzvggixqptzonxno - fitness: 154\n",
      "rrudamgbisZdqighhtltthXzvggixqptzonxno - fitness: 150\n",
      "rrudamgbisZdqighhtltthXzvggixqptjonxno - fitness: 138\n",
      "rrudamgbisZdqighhtltteXzvggixqptjonxno - fitness: 135\n",
      "rrudamgbisZdqughhtltteXzvggixqptjonxno - fitness: 125\n",
      "rrudamgbisZdqughhtltteXzrggixqptjonxno - fitness: 121\n",
      "rrudamgbisZdqughhtltteXzrggixqptjonxoo - fitness: 120\n",
      "rrudamgbisZdqughhtltteXzrggixqptjonqoo - fitness: 117\n",
      "rrsdamgbisZdqughhtltteXzrggixqptjonqoo - fitness: 115\n",
      "rrudamgbisZdqughhtltteXzrsgixqptjonqoo - fitness: 113\n",
      "rrsdamgbisZdqughhtltteXzrsgixqptjonqoo - fitness: 111\n",
      "rrsdamgbisZdqughhtltteXzrswixqptjonqoo - fitness: 99\n",
      "srsdamgbisZdqughetlttefzrsgixqppjonqon - fitness: 98\n",
      "srsdamgbisZdqughhtzttefzrsgixqppjonqon - fitness: 97\n",
      "srsdamgbisZdqughhtlttefzlsgixqppjonqon - fitness: 93\n",
      "srsdamgbisZdqughhtzttefzlsgixqppjonqon - fitness: 91\n",
      "srsdamgbisZmqughhtzttefzlsgixqppjonqon - fitness: 90\n",
      "srsdamgbisZdqughhtzttefzlngixqppjonqon - fitness: 88\n",
      "srsdamgbisZjqughhtzttefzlsgixqppjonqon - fitness: 87\n",
      "srsdamgbisZjqughhtzttefzlngixqppjonqon - fitness: 84\n",
      "srsdamgbisZjqughhtzttefzlngixqppjdnqon - fitness: 83\n",
      "srsdamgbisZjqughhtzttefzlngixqppjhnqon - fitness: 79\n",
      "srsdamgbisZjqugfhtwttefzlngixqpkjdnqon - fitness: 77\n",
      "srsdamgbisZjqughhtwttefzlnwixspkjdnqon - fitness: 65\n",
      "srsdamgbisZjqughftwttefzlnwixspkjdnqon - fitness: 63\n",
      "srsdamgbisZjlughftwttefzlnwixspkjdnqon - fitness: 62\n",
      "srsdamgbisZjltghftwttefzlnwixspkjdnqon - fitness: 61\n",
      "srsdamgbisZjltghftsttefzlnwixspkjdnqon - fitness: 59\n",
      "srsdamgbisZjltghftsttefzlnwixspkjjnqon - fitness: 55\n",
      "srsdamgbitZjltghftsttefzlnwixspkjjnqon - fitness: 54\n",
      "srsdamgbitZjltghftsttefzlnwiqspkjjnqon - fitness: 51\n",
      "srsdamgbitZjltghftsttefzlntiqspkjjnqon - fitness: 50\n",
      "srsdamgbitfjltghftsttefzlnwiqspkjjnqon - fitness: 39\n",
      "srsdamgbitjjltghftsttefzlntiqspkjjnqon - fitness: 38\n",
      "srsdamgbitfjltghftsttefzlntiqspmjjnqon - fitness: 36\n",
      "srsdamgbitfjltghftsttefzlntiqspmmjnqon - fitness: 35\n",
      "srsdamgbitfjltghftstteazlntiqspmmjnqon - fitness: 32\n",
      "srsdamgbitfjltghftstteazlntiqspmmjnton - fitness: 31\n",
      "srsdamgbitgjltghftstteazlntiqspmmjnton - fitness: 30\n",
      "srsdamgbitgjltghfustteazlntiqspmmjnton - fitness: 29\n",
      "srsdamgbitgjltghfustteazlntiqsommjnton - fitness: 28\n",
      "stsdamgbitgjltghfustteazlntiqspmmjnton - fitness: 27\n",
      "stsdamgbitgjltghfustteazlntiqsommjnton - fitness: 26\n",
      "stsdamgbitgjltghfustqeazlntiqsommjnton - fitness: 25\n",
      "stsdamgbitgjltghfusuqeazlnviqsommjnton - fitness: 24\n",
      "stsdamgbitgjltggfusuqeazlnviqsommjnton - fitness: 23\n",
      "stsdamgbitgjltggfusuqeaylnviqsommjnton - fitness: 22\n",
      "stsdamgbitgjltggfusuqeaylnviqsomminton - fitness: 21\n",
      "stsdamgbitgjltggfusuqeaylnvirsomminton - fitness: 20\n",
      "stseamgbitgjltggfusuqeaylnvirsomminton - fitness: 19\n",
      "stseamgbitgjltggfusuqebylnvirsomminton - fitness: 18\n",
      "stseamgbitgjltggfusuqebylnvirtomminton - fitness: 17\n",
      "stseamgbitgjltggfusuqebylnvistomminton - fitness: 16\n",
      "stseamgbitgjltgffusurebylnvirtomminton - fitness: 15\n",
      "streamgbitgjltgffusurebylnvirtomminton - fitness: 14\n",
      "streamgbitgiltgffusurebylnvirtomminton - fitness: 13\n",
      "streamgbitgiltgffusurebylnuirtomminton - fitness: 12\n",
      "streamgaitgiltgffusurebylnuirtomminton - fitness: 11\n",
      "streamgaitgiltgffusurebylnuirtomlinton - fitness: 10\n",
      "streamfaitgiotgffusurebylnuirtomminton - fitness: 9\n",
      "streamgaitgiotgffusurebylouistomminton - fitness: 8\n",
      "streamfaitgiotgffusurebylouistomminton - fitness: 7\n",
      "streamfaitgiotgffusurebylouistomminson - fitness: 6\n",
      "streamfaitgiothffusurebylouistomminson - fitness: 5\n",
      "streamfaitgiothffuturebylouistomminson - fitness: 4\n",
      "streamfaitgiothefuturebylouistomminson - fitness: 3\n",
      "streamfaitginthefuturebylouistomkinson - fitness: 2\n",
      "streamfaithinthefuturebylouistomminson - fitness: 1\n",
      "streamfaithinthefuturebylouistomlinson - fitness: 0\n",
      "\n",
      "Melhor palpite da senha encontrado:\n",
      "streamfaithinthefuturebylouistomlinson\n"
     ]
    }
   ],
   "source": [
    "populacao = cria_populacao_inicial(TAMANHO_POP, NUM_GENES)\n",
    "\n",
    "melhor_fitness_ja_visto = float('inf')\n",
    "\n",
    "print('Progresso da melhor senha já vista')\n",
    "\n",
    "while melhor_fitness_ja_visto !=0:\n",
    "    \n",
    "     # Seleção\n",
    "    fitness = funcao_objetivo_pop(populacao)\n",
    "    populacao = funcao_selecao(populacao, fitness)\n",
    "    \n",
    "    # Cruzamento\n",
    "    pais = populacao[0::2]\n",
    "    maes = populacao[1::2]\n",
    "    \n",
    "    contador = 0\n",
    "    \n",
    "    for pai, mae in zip(pais, maes):\n",
    "        if random.random() <= CHANCE_CRUZAMENTO:\n",
    "            filho1, filho2 = funcao_cruzamento(pai, mae)\n",
    "            populacao[contador] = filho1\n",
    "            populacao[contador + 1] = filho2\n",
    "        \n",
    "        contador = contador + 2   \n",
    "        \n",
    "    # Mutação\n",
    "    for n in range(len(populacao)):\n",
    "        if random.random() <= CHANCE_MUTACAO:\n",
    "            individuo = populacao[n]\n",
    "            populacao[n] = funcao_mutacao(individuo)            \n",
    "            \n",
    "    # melhor individuo já visto até agora\n",
    "    fitness = funcao_objetivo_pop(populacao)\n",
    "    menor_fitness = min(fitness)\n",
    "    if menor_fitness < melhor_fitness_ja_visto:        \n",
    "        posicao = fitness.index(menor_fitness)\n",
    "        melhor_individuo_ja_visto = populacao[posicao]\n",
    "        melhor_fitness_ja_visto = menor_fitness\n",
    "        print(\"\".join(melhor_individuo_ja_visto), \"- fitness:\", melhor_fitness_ja_visto)\n",
    "\n",
    "print()\n",
    "print(\"Melhor palpite da senha encontrado:\")\n",
    "print(\"\".join(melhor_individuo_ja_visto))"
   ]
  },
  {
   "cell_type": "markdown",
   "metadata": {},
   "source": [
    "## Conclusão\n",
    "\n"
   ]
  },
  {
   "cell_type": "markdown",
   "metadata": {},
   "source": [
    "Com o algoritmo implementado, foi possível resolver o problema apresentado nesse notebook. Esse algoritmo é muito interessante, pois apresenta _uma_ das diversas maneiras possíveis para resolver esse problema das senhas. Um outro jeito viável de resolvermos isso, seria aplicarmos uma função que resolveria fazendo uma diferença entre as palavras. É um algoritmo muito interessante para entendermos algoritmos genéticos."
   ]
  },
  {
   "cell_type": "markdown",
   "metadata": {},
   "source": [
    "## Playground\n",
    "\n"
   ]
  },
  {
   "cell_type": "code",
   "execution_count": null,
   "metadata": {},
   "outputs": [],
   "source": []
  }
 ],
 "metadata": {
  "kernelspec": {
   "display_name": "ilumpy",
   "language": "python",
   "name": "ilumpy"
  },
  "language_info": {
   "codemirror_mode": {
    "name": "ipython",
    "version": 3
   },
   "file_extension": ".py",
   "mimetype": "text/x-python",
   "name": "python",
   "nbconvert_exporter": "python",
   "pygments_lexer": "ipython3",
   "version": "3.9.7"
  },
  "org": null
 },
 "nbformat": 4,
 "nbformat_minor": 4
}
