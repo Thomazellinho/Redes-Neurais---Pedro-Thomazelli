{
 "cells": [
  {
   "cell_type": "markdown",
   "metadata": {},
   "source": [
    "Problema das caixas não-binárias\n",
    "================================\n",
    "\n"
   ]
  },
  {
   "cell_type": "markdown",
   "metadata": {},
   "source": [
    "## Objetivo\n",
    "\n"
   ]
  },
  {
   "cell_type": "markdown",
   "metadata": {},
   "source": [
    "Encontrar uma solução para o problema das caixas não-binárias usando um algoritmo genético. Considere 4 caixas. Considere que cada caixa pode ter um valor inteiro dentro do conjunto [0, 100].\n",
    "\n"
   ]
  },
  {
   "cell_type": "markdown",
   "metadata": {
    "tags": []
   },
   "source": [
    "## Descrição do problema\n",
    "\n"
   ]
  },
  {
   "cell_type": "markdown",
   "metadata": {},
   "source": [
    "O problema das caixas não-binárias é simples: nós temos um certo número de caixas e cada uma pode conter um número inteiro. O objetivo é encontrar uma combinação de caixas onde a soma dos valores contidos dentro delas é máximo.\n",
    "\n"
   ]
  },
  {
   "cell_type": "markdown",
   "metadata": {},
   "source": [
    "## Importações\n",
    "\n"
   ]
  },
  {
   "cell_type": "code",
   "execution_count": 1,
   "metadata": {},
   "outputs": [],
   "source": [
    "# importando do arquivo funcoes.py as funções a serem utilizadas nesse notebook\n",
    "\n",
    "from funcoes import populacao_cnb\n",
    "from funcoes import funcao_objetivo_pop_cnb as funcao_objetivo_pop\n",
    "from funcoes import selecao_roleta_max as funcao_selecao\n",
    "from funcoes import cruzamento_ponto_simples as funcao_cruzamento\n",
    "from funcoes import mutacao_cnb\n",
    "import random"
   ]
  },
  {
   "cell_type": "markdown",
   "metadata": {},
   "source": [
    "## Códigos e discussão\n",
    "\n"
   ]
  },
  {
   "cell_type": "code",
   "execution_count": 2,
   "metadata": {},
   "outputs": [],
   "source": [
    "#constantes\n",
    "\n",
    "tamanho_pop = 6 #tamanho da população\n",
    "num_geracoes = 5 #número de gerações\n",
    "chance_cruzamento = 0.5 #porcentagem de chance de um cruzamento acontecer\n",
    "chance_mutacao = 0.05 #porcentagem de chance de haver mutação na população\n",
    "\n",
    "# realcionados ao problema a ser resolvido\n",
    "valor_max_caixa = 100\n",
    "num_genes = 4"
   ]
  },
  {
   "cell_type": "markdown",
   "metadata": {},
   "source": [
    "Aqui, definimos as constantes gerais, que já vêm sendo usadas desde o princípio e as constantes exclusivas deste problema. \"tamanho_pop\" indica quantos indivíduos há na população, \"número de gerações\" quantas vezes haverá a passagem de geração e \"chance_cruzamento\" e \"chance_mutacao\" a porcentagem de cada evento destes ocorrer. Já para os valores exclusivos, \"valor_max_caixa\" indica o valor máximo que um gene pode ter e \"num_genes\" quantos genes cada indivíduo possui."
   ]
  },
  {
   "cell_type": "code",
   "execution_count": 4,
   "metadata": {},
   "outputs": [],
   "source": [
    "def cria_populacao_inicial(tamanho, numero_genes):\n",
    "    return populacao_cnb(tamanho, numero_genes, valor_max_caixa)\n",
    "\n",
    "def funcao_mutacao(individuo):\n",
    "    return mutacao_cnb(individuo, valor_max_caixa)"
   ]
  },
  {
   "cell_type": "code",
   "execution_count": 5,
   "metadata": {},
   "outputs": [
    {
     "name": "stdout",
     "output_type": "stream",
     "text": [
      "População inicial: \n",
      "[[22, 69, 25, 84], [91, 56, 45, 27], [75, 36, 23, 44], [91, 99, 59, 80], [96, 100, 91, 24], [16, 46, 17, 31]]\n",
      "\n",
      "[91, 99, 59, 80]\n",
      "[91, 99, 59, 97]\n",
      "\n",
      "\n",
      "[91, 99, 59, 97]\n",
      "[91, 68, 59, 97]\n",
      "\n",
      "\n",
      "[91, 68, 59, 97]\n",
      "[91, 68, 59, 66]\n",
      "\n",
      "\n",
      "[91, 68, 59, 66]\n",
      "[7, 68, 59, 66]\n",
      "\n",
      "\n",
      "População final: \n",
      "[[7, 68, 59, 66], [7, 68, 59, 66], [7, 68, 59, 66], [7, 68, 59, 66], [7, 68, 59, 66], [7, 68, 59, 66]]\n"
     ]
    }
   ],
   "source": [
    "populacao = cria_populacao_inicial(tamanho_pop, num_genes)\n",
    "\n",
    "print(\"População inicial: \")\n",
    "print(populacao)\n",
    "\n",
    "for n in range(num_geracoes):\n",
    "    fitness = funcao_objetivo_pop(populacao)\n",
    "    populacao = funcao_selecao (populacao, fitness)\n",
    "    pais = populacao[0::2]\n",
    "    maes = populacao[1::2]\n",
    "    contador = 0\n",
    "    for pai, mae in zip(pais, maes):\n",
    "        if random.random() < chance_cruzamento:\n",
    "            filho1, filho2 = funcao_cruzamento(pai, mae)\n",
    "            populacao[contador] = filho1\n",
    "            populacao[contador] = filho2\n",
    "            #ocorre cruzamento\n",
    "            \n",
    "        contador = contador + 2\n",
    "\n",
    "        for n in range(len(populacao)):\n",
    "            if random.random() <= chance_mutacao:\n",
    "                individuo = populacao[n]\n",
    "                print()\n",
    "                print(individuo)\n",
    "                populacao[n] = funcao_mutacao(individuo)\n",
    "                print(populacao[n])\n",
    "                print()\n",
    "print()\n",
    "print(\"População final: \")\n",
    "print(populacao)"
   ]
  },
  {
   "cell_type": "markdown",
   "metadata": {},
   "source": [
    "Tal qual o experimento A.03, aqui segue-se os mesmos passos, porém com caixas não binárias, ou seja, assumem valores positivos além de 0 e 1. Assim, cria-se novamente uma população de 6 indivíduos, seguida pela probabilidade dos indivíduos cruzarem, mutarem e passarem pra próxima geração. Por fim, temos a função que executa a mutação propriamente dita. "
   ]
  },
  {
   "cell_type": "markdown",
   "metadata": {},
   "source": [
    "## Conclusão\n",
    "\n"
   ]
  },
  {
   "cell_type": "markdown",
   "metadata": {},
   "source": [
    "Tal qual observado no experimento A.03, o algoritmo apresentado nesse experimento apresenta características probabilísticas, uma vez que continua a executar combinações aleatórias entre os indivíduos. Além disso, permite determinar máximo e mínimo. A maior diferença presente desse algoritmo para o anterior é, justamente, o aumento do número de possibilidades de números presentes nas caixas, sendo mais fácil perceber a natureza probabilística do algoritmo."
   ]
  },
  {
   "cell_type": "markdown",
   "metadata": {},
   "source": [
    "## Playground\n",
    "\n"
   ]
  },
  {
   "cell_type": "code",
   "execution_count": null,
   "metadata": {},
   "outputs": [],
   "source": []
  }
 ],
 "metadata": {
  "kernelspec": {
   "display_name": "ilumpy",
   "language": "python",
   "name": "ilumpy"
  },
  "language_info": {
   "codemirror_mode": {
    "name": "ipython",
    "version": 3
   },
   "file_extension": ".py",
   "mimetype": "text/x-python",
   "name": "python",
   "nbconvert_exporter": "python",
   "pygments_lexer": "ipython3",
   "version": "3.9.7"
  },
  "org": null
 },
 "nbformat": 4,
 "nbformat_minor": 4
}
