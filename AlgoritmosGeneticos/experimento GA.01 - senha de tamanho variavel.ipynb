{
 "cells": [
  {
   "cell_type": "markdown",
   "metadata": {
    "tags": []
   },
   "source": [
    "# experimento GA.01 - senha de tamanho variavel\n"
   ]
  },
  {
   "cell_type": "markdown",
   "metadata": {},
   "source": [
    "## Introdução\n",
    "\n"
   ]
  },
  {
   "cell_type": "markdown",
   "metadata": {},
   "source": [
    "O problema a da senha consiste em tentarmos encontrar uma senha previamente dada."
   ]
  },
  {
   "cell_type": "markdown",
   "metadata": {},
   "source": [
    "## Objetivo\n",
    "\n"
   ]
  },
  {
   "cell_type": "markdown",
   "metadata": {},
   "source": [
    "Resolver o problema da senha sem fornecer a informação do tamanho da senha para a função que gera a população."
   ]
  },
  {
   "cell_type": "markdown",
   "metadata": {},
   "source": [
    "## Importações\n",
    "\n"
   ]
  },
  {
   "cell_type": "markdown",
   "metadata": {},
   "source": [
    "Todos os comandos de `import` devem estar dentro desta seção.\n",
    "\n"
   ]
  },
  {
   "cell_type": "code",
   "execution_count": 5,
   "metadata": {},
   "outputs": [],
   "source": [
    "from funcoes import populacao_inicial_senha_sv\n",
    "from funcoes import funcao_objetivo_pop_senha_sv\n",
    "from funcoes import selecao_torneio_min_sv\n",
    "from funcoes import cruzamento_ponto_simples_sv as funcao_cruzamento\n",
    "from funcoes import mutacao_senha_sv\n",
    "from funcoes import funcao_objetivo_pop_senha_sv\n",
    "import random"
   ]
  },
  {
   "cell_type": "markdown",
   "metadata": {},
   "source": [
    "## Códigos e discussão\n",
    "\n"
   ]
  },
  {
   "cell_type": "markdown",
   "metadata": {},
   "source": [
    "-   Use células de código para o código.\n",
    "\n",
    "-   Use células de texto para a discussão.\n",
    "\n",
    "-   A discussão não deve ser feita em comentários dentro das células de código. Toda discussão deve acontecer após o resultado sendo discutido foi apresentado. Exemplo: não discuta um gráfico antes de apresentá-lo.\n",
    "\n"
   ]
  },
  {
   "cell_type": "code",
   "execution_count": 6,
   "metadata": {},
   "outputs": [],
   "source": [
    "### constantes\n",
    "\n",
    "# relacionadas à busca\n",
    "TAMANHO_POP = 50\n",
    "CHANCE_CRUZAMENTO = 0.5\n",
    "CHANCE_MUTACAO = 0.05\n",
    "NUM_COMBATENTES_NO_TORNEIO = 3\n",
    "\n",
    "# relacionados ao problema a ser resovido\n",
    "SENHA = 'streamfaithinthefuturebylouistomlinson'\n",
    "LETRAS_POSSIVEIS = 'abcdefghijklmnopqrstuvwxyzABCDEFGHIJKLMNOPQRSTUVWXYZ0123456789'\n",
    "TAMANHO_SENHA_MAX = 200\n",
    "PESO_PENALIDADE = 60"
   ]
  },
  {
   "cell_type": "code",
   "execution_count": 7,
   "metadata": {},
   "outputs": [],
   "source": [
    "#funções locais\n",
    "\n",
    "def cria_populacao_inicial(tamanho, tamanho_senha):\n",
    "    return populacao_inicial_senha_sv(tamanho, tamanho_senha, LETRAS_POSSIVEIS)\n",
    "\n",
    "def funcao_objetivo_pop(populacao):\n",
    "    return funcao_objetivo_pop_senha_sv(populacao, SENHA, PESO_PENALIDADE)\n",
    "\n",
    "def funcao_selecao(populacao, fitness):\n",
    "    return selecao_torneio_min_sv(populacao, fitness, NUM_COMBATENTES_NO_TORNEIO)\n",
    "\n",
    "def funcao_mutacao(individuo):\n",
    "    return mutacao_senha_sv(individuo, LETRAS_POSSIVEIS, TAMANHO_SENHA_MAX)    "
   ]
  },
  {
   "cell_type": "code",
   "execution_count": 8,
   "metadata": {},
   "outputs": [
    {
     "name": "stdout",
     "output_type": "stream",
     "text": [
      "Progresso da melhor senha já vista\n",
      "VkmkaTx5k8UeBEameni7ODyvj6p3cv1m30PMHo2 - fitness: 982\n",
      "AuDnidNkTDIfz0cWopkuAnyrvKrraiTknp3j7UJMI - fitness: 924\n",
      "VkmkaTxOtzdgLL83AFCxR3kFwdUvfk9EVePTAV - fitness: 923\n",
      "VkmkaTxOtzUeBEameni7ODyvj6p3cv1m30Yy - fitness: 890\n",
      "VkmkaTxOtzUeBEamepkuAnyrvKrraiTknp3j7UJMI - fitness: 813\n",
      "VkmkaTxOtzUeBEamepkuAnyrvSpiKw0JBtYy - fitness: 743\n",
      "AuDkaTxOtzUeBEamepkuAnyrvKrrai1m3ePTXV - fitness: 731\n",
      "VkmkaTxOtzUeBEaWopkuAnyrvKrrai1m3ePTXV - fitness: 691\n",
      "VkmkaTxOtzUeBEamepkuAnyrvKrraiTkBtPTXV - fitness: 636\n",
      "VkmkaTxOtzUeBEamepkuAnyrvKrraiTkdtPTXV - fitness: 602\n",
      "VkmkaTxOtzUeBQamepkuAnyrvKrraiTkdtPTXV - fitness: 590\n",
      "VkmkaTxOtzUeBaamepkuAnyrvKrraiTkdtPTXV - fitness: 574\n",
      "VkmkaTxOtzUezEamepkuAnyrvKrraiTkdtPTXV - fitness: 570\n",
      "VkmkaTxOdzUezEamepkuAnyrvKrraiTkdtPTXV - fitness: 564\n",
      "VkmkaTxOkzUezEamepkuAnyrvKrraiTkdtPTXV - fitness: 561\n",
      "VkmkaTxOkzUezEamepkuAnyrvKrraiTkdtPTyV - fitness: 548\n",
      "VkmkaTxOkzUezEamepkuAnyrvKrraiTkdtXTyV - fitness: 540\n",
      "nkmkaTxOkzUezEamepkuAnyrvKrraiTkdtXTyV - fitness: 516\n",
      "nkmkaTxOkzUezEamepkuAnyrvKrraiTkdtXTmV - fitness: 508\n",
      "nkmkaTkOkzUezEamepkuAnyrvKrraiTkdtXTyV - fitness: 503\n",
      "nkmkaTkOkznezEamepkuAnyrvKrraiTkdtXTyV - fitness: 490\n",
      "nkmkaTkOkznezEamepkuAnyrvKrraiTkdmXTyV - fitness: 483\n",
      "nkmkaTkOkznezEamepkuAnyrvKrramTkdmXTyV - fitness: 479\n",
      "nkmkaTkOkznezEamepkuAnyrvKrraiTkdmvTyV - fitness: 469\n",
      "nnmkaTkOkznezEamepkuAnyrvKrraiTkdmvTyV - fitness: 466\n",
      "nkmkankOkxnezEamepkuAnyrvKrraiTkdmvTyV - fitness: 443\n",
      "nkmkankOkxnezEamepkuinyrvKrraiTkdmvTyV - fitness: 403\n",
      "nkmkankOkxngzEamepkuinyrvKrraiTkdmvTyV - fitness: 401\n",
      "nkmkankOkxngzlamepkuinyrvKrraiTkdmvTyV - fitness: 362\n",
      "nkmkankOkxngvlamepkuinyrvKrraiTkdmvTyV - fitness: 358\n",
      "nkmkankOkxngvlamepkuinyrvKrrdiTkdmvTyV - fitness: 355\n",
      "nkmkankOkxngvlamepkuinyrvKvraiTkdmvTjV - fitness: 351\n",
      "nkmkankOkxngvlamepkuinyrvKvraiTkdmvwjV - fitness: 324\n",
      "nkmkankOkxngvlamepkuinyrvKrrdiTkdmvwjV - fitness: 323\n",
      "nkmkankOkxngvlamepkuinwrvKvraiTkdmvwjV - fitness: 322\n",
      "nkmkankOkxngvlamepkuinwrjKvraiTkdmvwjV - fitness: 314\n",
      "nkmkankOkxngvlamepkuinwrjKvraiTkdmgwjV - fitness: 313\n",
      "nkmkankOkxngvlamepkuinwrjKvraiTkdmgwjj - fitness: 293\n",
      "nkmkankOkxngvlamepkuinwrjWvraiTkdmgwjj - fitness: 281\n",
      "nkmkankOkxngvvamepkuinwrjWvraiTkdmgwjj - fitness: 275\n",
      "nkmkankOkxngvvamepkuinwrjkvraiTkdmgwjj - fitness: 255\n",
      "nkmkankOkxngvvamepkuinwrjkvraimkdmgwjj - fitness: 230\n",
      "nkmkankOkxngvvamepkuinPrjkvraimkdmgwjj - fitness: 227\n",
      "nkmkankOkxngvvamepkuinXrjkvraimkdmgwjj - fitness: 219\n",
      "nkmkankWkxngvvamepkuinXrjkvraimkdmgwjj - fitness: 211\n",
      "nkmkankWkxngvvamepkuinXrjkvraimkdmgqjj - fitness: 209\n",
      "tkmkankWkxngvvamepkuinXrjkvraimkdmgwjj - fitness: 207\n",
      "tkmkankWkxngvvamepkuinXrjkvraimkdmgqjj - fitness: 205\n",
      "tkmkankWkxngvvamepkuinarjkvraimkdmgqjj - fitness: 196\n",
      "tkmkankWkxngvvamepkuinarjkvrgimkdmgqjj - fitness: 190\n",
      "tkmkaniWkxngvvamepkuinarjkvrgimkdmgqjj - fitness: 188\n",
      "tkmkaniWkxngvvamepkuinawjkvrgimkdmgqjj - fitness: 183\n",
      "tkmkaniWkxngvvamepkuinawjkvrgimkdmgqsj - fitness: 182\n",
      "tkmfaniWkxngvvamepkuinawjkvrgimkdmgqsj - fitness: 177\n",
      "tkmfaniWkxngvvamepmuinawjkvrgimkdmgqsj - fitness: 175\n",
      "tomfaniWkxngvvamepkuinawjkvrgimkdmgqsj - fitness: 173\n",
      "tomfaniWkxngvvamepmuinawjkvrgimkdmgqsj - fitness: 171\n",
      "tomfaniWkxngvvajepmuinawjkvrgimkdmgqsj - fitness: 168\n",
      "torfaniWkxngvvajepmuinawjkvrgimkdmgqsj - fitness: 163\n",
      "tomfaniWkxngvvajepmuinawjkvrvimkdmgqsj - fitness: 159\n",
      "torfaniWkxngvvajepmuinawjkvrvimkdmgqsj - fitness: 154\n",
      "txrfaniWkxngvvajepmuinawjkvrvimkdmgqsj - fitness: 153\n",
      "torfaniWkxngvvajepmuinawjkvrvimkemgtsj - fitness: 152\n",
      "torfaniWkxngvvajepmuinawjkvrvimkemoqsj - fitness: 147\n",
      "torfaniWkxngvvajepmuwnawjkvrvimkemoqsj - fitness: 143\n",
      "torfaniWkxngvvajepmuinawjkvmvimkemoqsj - fitness: 142\n",
      "torfaniWkxngvuajepmuinawjkvmvimkemoqsj - fitness: 141\n",
      "torfaniWkxngvuajepmuinawjkvmvqmkemoqsj - fitness: 133\n",
      "torfaniWkxngnuajepmuinawjkvmvqmkemoqsj - fitness: 125\n",
      "torfaniWkxngnuajepmuinawjkvmvqmkemoqsm - fitness: 122\n",
      "torfaniWkxngnuajepmulnawjkvmvqmkemoqsm - fitness: 119\n",
      "tqrfaniWkxngnuajepmulnawjkvmvqmkemoqsm - fitness: 117\n",
      "tqrfaniWkxngnuajepmulnawjrvmvqmkemoqsm - fitness: 116\n",
      "tqrfaniWkxngnucjepmulnawjkvmvqmkemoqsm - fitness: 115\n",
      "tqrfaniWkxngnucjepmulnawjrvmvqmkemoqsm - fitness: 114\n",
      "tqrfaniWkungnucjepmulnawjrvmvqmkemoqsm - fitness: 111\n",
      "tqrfaneWkungnucjepmulnawjrvmvqmkemoqsm - fitness: 109\n",
      "tqrfaneWkungnucjeprulnawjrvmvqmkemoqsm - fitness: 104\n",
      "tqrfaneWkudgnucjeprulnawjrvmvqmkemoqsm - fitness: 102\n",
      "tqrfaneWkudgnucjeprulnawjrvmvqmkemoqrm - fitness: 101\n",
      "tqrfaneWkudgnucjeprulbawjrvmvqmkemoqrm - fitness: 95\n",
      "tqrfaneWkudgntcjeprulbawjrvmvqmkemoqrm - fitness: 94\n",
      "tqrfaneWkudgntcjeprulbawjrvmvqmkomoqrm - fitness: 90\n",
      "tqrfaneWkudgntcjeprulbazjrvmvqmkomoqrm - fitness: 89\n",
      "tqrfaneWkudhntcjeprulbazjrvmvqmkomoqrm - fitness: 88\n",
      "tqrfaneWkudgntcjeprulbazjrvmrqmkomoqrm - fitness: 87\n",
      "tqrfaneWkudhntcjeprulbazjrvmrqmkomoqrm - fitness: 86\n",
      "tqrfaneWkuehntcjeprulbazjrvmrqmkomoqrm - fitness: 85\n",
      "tqrfameWkuehntcjeprulbazjrvmrqmkomoqrm - fitness: 84\n",
      "tqrfameWkuehntcjeprulbazmrvmrqmkomoqrm - fitness: 83\n",
      "tqrfameWkuehntcjeprulbazmrvmrumkomoqrm - fitness: 81\n",
      "tqrfameWkujhntcjeprulbazmrvmrumkomoqrm - fitness: 80\n",
      "tqreameWkujhntcjeprulbazmrvmrumkomoqrm - fitness: 79\n",
      "tqrfameWkujhntcjeprulbazmrvkrumkomoqrm - fitness: 78\n",
      "tqreameWkujhntcjeprulbazmrvkrumkomoqrm - fitness: 77\n",
      "tqreameWkuhhntcjeprulbazmrvkrumkomoqrm - fitness: 75\n",
      "tqreameWkuhhntcjeprulbazmrvkrumkomoqom - fitness: 72\n",
      "tqreameWkuhhntejeprulbazmrvkrumkomoqom - fitness: 70\n",
      "tqreameWkuhhntcjeurulbazmrvkrumkomoqom - fitness: 67\n",
      "tqreamfWkuhhntcjeurulbazmrvkrumkomoqom - fitness: 66\n",
      "tqreamfWkuhhntcjeururbazmrvkrumkomoqom - fitness: 60\n",
      "tvreamfWkuhhntcjeururbazmrvkrumkomoqom - fitness: 59\n",
      "tvreamfWhuhhntcjeururbazmrvkrumkomoqom - fitness: 58\n",
      "tvreamfWkuhhntcjeururbazmpvkrumkomoqom - fitness: 57\n",
      "tvreamfYkuhhntcjeururbazmpvkrumkomoqom - fitness: 55\n",
      "tvreamfWkuhhntcjeururdazmpvkrumkofoqom - fitness: 54\n",
      "tvreamfWkuhhntcjeururdazmovkrumkofoqom - fitness: 53\n",
      "tvreamfikuhhntcjeururdazmovkrumkofoqom - fitness: 51\n",
      "tvreamfekuhhntcjeururdazmovkrumkofoqom - fitness: 47\n",
      "tvreamfakuhhntcjeurureazmovkrumkofoqom - fitness: 42\n",
      "tvreamfakuhhntcjeurureazmovkrummofoqom - fitness: 40\n",
      "tvreamfakuhhntcjeurureaymovkrummofoqom - fitness: 39\n",
      "tureamfakuhhntcjeurureaymovkrummofoqom - fitness: 38\n",
      "tureamfakuhhntcjeurureaymovkrtmmofoqom - fitness: 37\n",
      "tureamfakuhhntcjeurureaymovkrummkfoqom - fitness: 36\n",
      "tureamfakuhhntcjeurureaymovkrummkfotom - fitness: 35\n",
      "tureamfakuhhntcjeurureaymovkrummlfotom - fitness: 34\n",
      "tureamfakuhhntcjeurureaymovkrummliotom - fitness: 31\n",
      "tureamfakuhhntcjeutureaymovkrummliotom - fitness: 29\n",
      "tureamfakuhhntcjeutureaymovkrummlintom - fitness: 28\n",
      "tureamfakuhhntcfeutureaymovkrummlintom - fitness: 24\n",
      "tureamfakuhhntcfeutureaymoukrummlintom - fitness: 23\n",
      "tureamfakuhhntcfeutureaymoukrupmlintom - fitness: 22\n",
      "tureamfajuhhntcfeutureaymoukrupmlintom - fitness: 21\n",
      "tureamfajuhhntcfeutureaymoukruomlintom - fitness: 20\n",
      "tureamfajuhhntcfeutureaymoujruomlintom - fitness: 19\n",
      "tureamfajuhhntcfeutureaymouiruomlintom - fitness: 18\n",
      "tureamfajuhhntdfeutureaymouiruomlintom - fitness: 17\n",
      "tureamfajthhntdfeutureaymouiruomlintom - fitness: 16\n",
      "ttreamfajthhntdfeutureaymouiruomlintom - fitness: 15\n",
      "streamfajthhntdfeutureaymouiruomlintom - fitness: 14\n",
      "streamfajthhnthfeutureaymouiruomlintom - fitness: 10\n",
      "streamfajthhnthfeutureaymouisuomlintom - fitness: 9\n",
      "streamfaithinthfeutureaymouiruomlintom - fitness: 8\n",
      "streamfaithinthfeutureaymouiruomlinsom - fitness: 7\n",
      "streamfaithinthfeutureaymouisuomlinsom - fitness: 6\n",
      "streamfaithinthfeutureaymouisuomlinson - fitness: 5\n",
      "streamfaithinthffutureaymouisuomlinson - fitness: 4\n",
      "streamfaithinthffuturebymouisuomlinson - fitness: 3\n",
      "streamfaithinthffuturebymouistomlinson - fitness: 2\n",
      "streamfaithinthefuturebymouistomlinson - fitness: 1\n",
      "streamfaithinthefuturebylouistomlinson - fitness: 0\n",
      "\n",
      "Melhor palpite da senha encontrado:\n",
      "streamfaithinthefuturebylouistomlinson\n"
     ]
    }
   ],
   "source": [
    "populacao = cria_populacao_inicial(TAMANHO_POP, TAMANHO_SENHA_MAX)\n",
    "\n",
    "melhor_fitness_ja_visto = float('inf')\n",
    "\n",
    "print('Progresso da melhor senha já vista')\n",
    "\n",
    "while melhor_fitness_ja_visto != 0:\n",
    "    \n",
    "     # Seleção\n",
    "    fitness = funcao_objetivo_pop(populacao)\n",
    "    populacao = funcao_selecao(populacao, fitness)\n",
    "    \n",
    "    # Cruzamento\n",
    "    pais = populacao[0::2]\n",
    "    maes = populacao[1::2]\n",
    "    \n",
    "    contador = 0\n",
    "    \n",
    "    for pai, mae in zip(pais, maes):\n",
    "        if random.random() <= CHANCE_CRUZAMENTO:\n",
    "            filho1, filho2 = funcao_cruzamento(pai, mae)\n",
    "            populacao[contador] = filho1\n",
    "            populacao[contador + 1] = filho2\n",
    "        \n",
    "        contador = contador + 2   \n",
    "        \n",
    "    # Mutação\n",
    "    for n in range(len(populacao)):\n",
    "        if random.random() <= CHANCE_MUTACAO:\n",
    "            individuo = populacao[n]\n",
    "            populacao[n] = funcao_mutacao(individuo)            \n",
    "            \n",
    "    # melhor individuo já visto até agora\n",
    "    fitness = funcao_objetivo_pop(populacao)\n",
    "    menor_fitness = min(fitness)\n",
    "    if menor_fitness < melhor_fitness_ja_visto:        \n",
    "        posicao = fitness.index(menor_fitness)\n",
    "        melhor_individuo_ja_visto = populacao[posicao]\n",
    "        melhor_fitness_ja_visto = menor_fitness\n",
    "        print(\"\".join(melhor_individuo_ja_visto), \"- fitness:\", melhor_fitness_ja_visto)\n",
    "\n",
    "print()\n",
    "print(\"Melhor palpite da senha encontrado:\")\n",
    "print(\"\".join(melhor_individuo_ja_visto))"
   ]
  },
  {
   "cell_type": "markdown",
   "metadata": {},
   "source": [
    "## Conclusão\n",
    "\n"
   ]
  },
  {
   "cell_type": "markdown",
   "metadata": {},
   "source": [
    "\n"
   ]
  },
  {
   "cell_type": "markdown",
   "metadata": {},
   "source": [
    "## Referências consultadas\n",
    "\n"
   ]
  },
  {
   "cell_type": "markdown",
   "metadata": {},
   "source": [
    "1.  Delete este texto e inclua suas referências ordenadas numericamente. Se for referenciar no notebook, use o número entre colchetes (exemplo: para citar essa referência aqui escreva &ldquo;[1]&rdquo; sem as áspas).\n",
    "\n",
    "2.  Cada item deve ser numerado. Siga o padrão apresentado.\n",
    "\n",
    "3.  Caso não tenha nenhuma referência consultada, delete esta seção e o texto contido nela!\n",
    "\n"
   ]
  },
  {
   "cell_type": "markdown",
   "metadata": {},
   "source": [
    "## Playground\n",
    "\n"
   ]
  },
  {
   "cell_type": "markdown",
   "metadata": {},
   "source": [
    "Todo código de teste que não faz parte do seu experimento deve vir aqui. Este código não será considerado na avaliação.\n",
    "\n"
   ]
  },
  {
   "cell_type": "code",
   "execution_count": null,
   "metadata": {},
   "outputs": [],
   "source": []
  }
 ],
 "metadata": {
  "kernelspec": {
   "display_name": "ilumpy",
   "language": "python",
   "name": "ilumpy"
  },
  "language_info": {
   "codemirror_mode": {
    "name": "ipython",
    "version": 3
   },
   "file_extension": ".py",
   "mimetype": "text/x-python",
   "name": "python",
   "nbconvert_exporter": "python",
   "pygments_lexer": "ipython3",
   "version": "3.9.7"
  },
  "org": null
 },
 "nbformat": 4,
 "nbformat_minor": 4
}
